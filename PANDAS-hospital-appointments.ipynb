{
 "cells": [
  {
   "cell_type": "markdown",
   "id": "1373b0ef",
   "metadata": {
    "papermill": {
     "duration": 0.016441,
     "end_time": "2022-08-24T10:36:17.467263",
     "exception": false,
     "start_time": "2022-08-24T10:36:17.450822",
     "status": "completed"
    },
    "tags": []
   },
   "source": [
    "Project: Hospital Bookings\n",
    "\n",
    "\n",
    "Table of content\n",
    "1. Introduction\n",
    "2. Data wrangling\n",
    "3. Exploratory data analysis\n",
    "4. conclusions\n",
    "5. Limitations"
   ]
  },
  {
   "cell_type": "markdown",
   "id": "f2ae05bb",
   "metadata": {
    "papermill": {
     "duration": 0.01213,
     "end_time": "2022-08-24T10:36:17.492056",
     "exception": false,
     "start_time": "2022-08-24T10:36:17.479926",
     "status": "completed"
    },
    "tags": []
   },
   "source": [
    "The following dataset provides information on booked appointments as well as those appointment that had absentees. I'm attempting to isolate the reason for abscences. If i can find a clear answer or a common mitigating factor based on the information provided here.\n",
    "The questions I'll be focusing on for this project are:\n",
    "1. How influential is gender on appointment attendance.\n",
    "2. Does an sms-notification increase chances of attendance."
   ]
  },
  {
   "cell_type": "code",
   "execution_count": 1,
   "id": "426a1f29",
   "metadata": {
    "execution": {
     "iopub.execute_input": "2022-08-24T10:36:17.520264Z",
     "iopub.status.busy": "2022-08-24T10:36:17.519681Z",
     "iopub.status.idle": "2022-08-24T10:36:17.534754Z",
     "shell.execute_reply": "2022-08-24T10:36:17.533412Z"
    },
    "papermill": {
     "duration": 0.033238,
     "end_time": "2022-08-24T10:36:17.537593",
     "exception": false,
     "start_time": "2022-08-24T10:36:17.504355",
     "status": "completed"
    },
    "tags": []
   },
   "outputs": [],
   "source": [
    "import pandas as pd\n",
    "import numpy as np\n",
    "import matplotlib.pyplot as plt\n",
    "%matplotlib inline"
   ]
  },
  {
   "cell_type": "code",
   "execution_count": 2,
   "id": "1960e54f",
   "metadata": {
    "execution": {
     "iopub.execute_input": "2022-08-24T10:36:17.566002Z",
     "iopub.status.busy": "2022-08-24T10:36:17.565542Z",
     "iopub.status.idle": "2022-08-24T10:36:18.043911Z",
     "shell.execute_reply": "2022-08-24T10:36:18.042723Z"
    },
    "papermill": {
     "duration": 0.495805,
     "end_time": "2022-08-24T10:36:18.046574",
     "exception": false,
     "start_time": "2022-08-24T10:36:17.550769",
     "status": "completed"
    },
    "tags": []
   },
   "outputs": [
    {
     "data": {
      "text/html": [
       "<div>\n",
       "<style scoped>\n",
       "    .dataframe tbody tr th:only-of-type {\n",
       "        vertical-align: middle;\n",
       "    }\n",
       "\n",
       "    .dataframe tbody tr th {\n",
       "        vertical-align: top;\n",
       "    }\n",
       "\n",
       "    .dataframe thead th {\n",
       "        text-align: right;\n",
       "    }\n",
       "</style>\n",
       "<table border=\"1\" class=\"dataframe\">\n",
       "  <thead>\n",
       "    <tr style=\"text-align: right;\">\n",
       "      <th></th>\n",
       "      <th>PatientId</th>\n",
       "      <th>AppointmentID</th>\n",
       "      <th>Gender</th>\n",
       "      <th>ScheduledDay</th>\n",
       "      <th>AppointmentDay</th>\n",
       "      <th>Age</th>\n",
       "      <th>Neighbourhood</th>\n",
       "      <th>Scholarship</th>\n",
       "      <th>Hipertension</th>\n",
       "      <th>Diabetes</th>\n",
       "      <th>Alcoholism</th>\n",
       "      <th>Handcap</th>\n",
       "      <th>SMS_received</th>\n",
       "      <th>No-show</th>\n",
       "    </tr>\n",
       "  </thead>\n",
       "  <tbody>\n",
       "    <tr>\n",
       "      <th>0</th>\n",
       "      <td>2.987250e+13</td>\n",
       "      <td>5642903</td>\n",
       "      <td>F</td>\n",
       "      <td>2016-04-29T18:38:08Z</td>\n",
       "      <td>2016-04-29T00:00:00Z</td>\n",
       "      <td>62</td>\n",
       "      <td>JARDIM DA PENHA</td>\n",
       "      <td>0</td>\n",
       "      <td>1</td>\n",
       "      <td>0</td>\n",
       "      <td>0</td>\n",
       "      <td>0</td>\n",
       "      <td>0</td>\n",
       "      <td>No</td>\n",
       "    </tr>\n",
       "    <tr>\n",
       "      <th>1</th>\n",
       "      <td>5.589978e+14</td>\n",
       "      <td>5642503</td>\n",
       "      <td>M</td>\n",
       "      <td>2016-04-29T16:08:27Z</td>\n",
       "      <td>2016-04-29T00:00:00Z</td>\n",
       "      <td>56</td>\n",
       "      <td>JARDIM DA PENHA</td>\n",
       "      <td>0</td>\n",
       "      <td>0</td>\n",
       "      <td>0</td>\n",
       "      <td>0</td>\n",
       "      <td>0</td>\n",
       "      <td>0</td>\n",
       "      <td>No</td>\n",
       "    </tr>\n",
       "    <tr>\n",
       "      <th>2</th>\n",
       "      <td>4.262962e+12</td>\n",
       "      <td>5642549</td>\n",
       "      <td>F</td>\n",
       "      <td>2016-04-29T16:19:04Z</td>\n",
       "      <td>2016-04-29T00:00:00Z</td>\n",
       "      <td>62</td>\n",
       "      <td>MATA DA PRAIA</td>\n",
       "      <td>0</td>\n",
       "      <td>0</td>\n",
       "      <td>0</td>\n",
       "      <td>0</td>\n",
       "      <td>0</td>\n",
       "      <td>0</td>\n",
       "      <td>No</td>\n",
       "    </tr>\n",
       "    <tr>\n",
       "      <th>3</th>\n",
       "      <td>8.679512e+11</td>\n",
       "      <td>5642828</td>\n",
       "      <td>F</td>\n",
       "      <td>2016-04-29T17:29:31Z</td>\n",
       "      <td>2016-04-29T00:00:00Z</td>\n",
       "      <td>8</td>\n",
       "      <td>PONTAL DE CAMBURI</td>\n",
       "      <td>0</td>\n",
       "      <td>0</td>\n",
       "      <td>0</td>\n",
       "      <td>0</td>\n",
       "      <td>0</td>\n",
       "      <td>0</td>\n",
       "      <td>No</td>\n",
       "    </tr>\n",
       "    <tr>\n",
       "      <th>4</th>\n",
       "      <td>8.841186e+12</td>\n",
       "      <td>5642494</td>\n",
       "      <td>F</td>\n",
       "      <td>2016-04-29T16:07:23Z</td>\n",
       "      <td>2016-04-29T00:00:00Z</td>\n",
       "      <td>56</td>\n",
       "      <td>JARDIM DA PENHA</td>\n",
       "      <td>0</td>\n",
       "      <td>1</td>\n",
       "      <td>1</td>\n",
       "      <td>0</td>\n",
       "      <td>0</td>\n",
       "      <td>0</td>\n",
       "      <td>No</td>\n",
       "    </tr>\n",
       "  </tbody>\n",
       "</table>\n",
       "</div>"
      ],
      "text/plain": [
       "      PatientId  AppointmentID Gender          ScheduledDay  \\\n",
       "0  2.987250e+13        5642903      F  2016-04-29T18:38:08Z   \n",
       "1  5.589978e+14        5642503      M  2016-04-29T16:08:27Z   \n",
       "2  4.262962e+12        5642549      F  2016-04-29T16:19:04Z   \n",
       "3  8.679512e+11        5642828      F  2016-04-29T17:29:31Z   \n",
       "4  8.841186e+12        5642494      F  2016-04-29T16:07:23Z   \n",
       "\n",
       "         AppointmentDay  Age      Neighbourhood  Scholarship  Hipertension  \\\n",
       "0  2016-04-29T00:00:00Z   62    JARDIM DA PENHA            0             1   \n",
       "1  2016-04-29T00:00:00Z   56    JARDIM DA PENHA            0             0   \n",
       "2  2016-04-29T00:00:00Z   62      MATA DA PRAIA            0             0   \n",
       "3  2016-04-29T00:00:00Z    8  PONTAL DE CAMBURI            0             0   \n",
       "4  2016-04-29T00:00:00Z   56    JARDIM DA PENHA            0             1   \n",
       "\n",
       "   Diabetes  Alcoholism  Handcap  SMS_received No-show  \n",
       "0         0           0        0             0      No  \n",
       "1         0           0        0             0      No  \n",
       "2         0           0        0             0      No  \n",
       "3         0           0        0             0      No  \n",
       "4         1           0        0             0      No  "
      ]
     },
     "execution_count": 2,
     "metadata": {},
     "output_type": "execute_result"
    }
   ],
   "source": [
    "df = pd.read_csv('../input/noshowappointments/KaggleV2-May-2016.csv')\n",
    "df.head()"
   ]
  },
  {
   "cell_type": "markdown",
   "id": "333feeb9",
   "metadata": {
    "papermill": {
     "duration": 0.013029,
     "end_time": "2022-08-24T10:36:18.072909",
     "exception": false,
     "start_time": "2022-08-24T10:36:18.059880",
     "status": "completed"
    },
    "tags": []
   },
   "source": [
    "The table above displays the columns in the data provided. We have 14 columns in this dataframe.\n",
    "1. PatientId : a unique numeric for identifying each patient\n",
    "2. AppointmentId : a unique Id for each booked appointment (both for those attended and otherwise)\n",
    "3. Gender: The patients sex\n",
    "4. ScheduledDay : when the appointment was made\n",
    "5. AppointmentDay : the said appointment\n",
    "6. Age: the patients age\n",
    "7. Neighbourhood: location of the medical facility\n",
    "8. scholarship:Government funded treatment(1 is yes, 0 is no)\n",
    "9. Hypertension\n",
    "10. Diabetes\n",
    "11. Alcoholism\n",
    "12. Handicap\n",
    "13. sms received: If the patient received an sms reminder\n",
    "14. No-show: If the patient attended the appointment"
   ]
  },
  {
   "cell_type": "code",
   "execution_count": 3,
   "id": "edec5cf7",
   "metadata": {
    "execution": {
     "iopub.execute_input": "2022-08-24T10:36:18.101250Z",
     "iopub.status.busy": "2022-08-24T10:36:18.100112Z",
     "iopub.status.idle": "2022-08-24T10:36:18.135967Z",
     "shell.execute_reply": "2022-08-24T10:36:18.134658Z"
    },
    "papermill": {
     "duration": 0.052979,
     "end_time": "2022-08-24T10:36:18.138887",
     "exception": false,
     "start_time": "2022-08-24T10:36:18.085908",
     "status": "completed"
    },
    "tags": []
   },
   "outputs": [
    {
     "data": {
      "text/plain": [
       "PatientId         0\n",
       "AppointmentID     0\n",
       "Gender            0\n",
       "ScheduledDay      0\n",
       "AppointmentDay    0\n",
       "Age               0\n",
       "Neighbourhood     0\n",
       "Scholarship       0\n",
       "Hipertension      0\n",
       "Diabetes          0\n",
       "Alcoholism        0\n",
       "Handcap           0\n",
       "SMS_received      0\n",
       "No-show           0\n",
       "dtype: int64"
      ]
     },
     "execution_count": 3,
     "metadata": {},
     "output_type": "execute_result"
    }
   ],
   "source": [
    "df.isna().sum()"
   ]
  },
  {
   "cell_type": "markdown",
   "id": "d93c2c44",
   "metadata": {
    "papermill": {
     "duration": 0.013772,
     "end_time": "2022-08-24T10:36:18.166233",
     "exception": false,
     "start_time": "2022-08-24T10:36:18.152461",
     "status": "completed"
    },
    "tags": []
   },
   "source": [
    "The data has no null values."
   ]
  },
  {
   "cell_type": "code",
   "execution_count": 4,
   "id": "dc667cf2",
   "metadata": {
    "execution": {
     "iopub.execute_input": "2022-08-24T10:36:18.194925Z",
     "iopub.status.busy": "2022-08-24T10:36:18.194205Z",
     "iopub.status.idle": "2022-08-24T10:36:18.248832Z",
     "shell.execute_reply": "2022-08-24T10:36:18.246705Z"
    },
    "papermill": {
     "duration": 0.072119,
     "end_time": "2022-08-24T10:36:18.251760",
     "exception": false,
     "start_time": "2022-08-24T10:36:18.179641",
     "status": "completed"
    },
    "tags": []
   },
   "outputs": [
    {
     "name": "stdout",
     "output_type": "stream",
     "text": [
      "<class 'pandas.core.frame.DataFrame'>\n",
      "RangeIndex: 110527 entries, 0 to 110526\n",
      "Data columns (total 14 columns):\n",
      " #   Column          Non-Null Count   Dtype  \n",
      "---  ------          --------------   -----  \n",
      " 0   PatientId       110527 non-null  float64\n",
      " 1   AppointmentID   110527 non-null  int64  \n",
      " 2   Gender          110527 non-null  object \n",
      " 3   ScheduledDay    110527 non-null  object \n",
      " 4   AppointmentDay  110527 non-null  object \n",
      " 5   Age             110527 non-null  int64  \n",
      " 6   Neighbourhood   110527 non-null  object \n",
      " 7   Scholarship     110527 non-null  int64  \n",
      " 8   Hipertension    110527 non-null  int64  \n",
      " 9   Diabetes        110527 non-null  int64  \n",
      " 10  Alcoholism      110527 non-null  int64  \n",
      " 11  Handcap         110527 non-null  int64  \n",
      " 12  SMS_received    110527 non-null  int64  \n",
      " 13  No-show         110527 non-null  object \n",
      "dtypes: float64(1), int64(8), object(5)\n",
      "memory usage: 11.8+ MB\n"
     ]
    }
   ],
   "source": [
    "df.info()"
   ]
  },
  {
   "cell_type": "markdown",
   "id": "a4af58de",
   "metadata": {
    "papermill": {
     "duration": 0.012938,
     "end_time": "2022-08-24T10:36:18.278510",
     "exception": false,
     "start_time": "2022-08-24T10:36:18.265572",
     "status": "completed"
    },
    "tags": []
   },
   "source": [
    "The dataframe has 110527 entries, 8 of the columns are in an integer format, 1 is in a float and the last 5 are in a string format."
   ]
  },
  {
   "cell_type": "code",
   "execution_count": 5,
   "id": "502e11bc",
   "metadata": {
    "execution": {
     "iopub.execute_input": "2022-08-24T10:36:18.307503Z",
     "iopub.status.busy": "2022-08-24T10:36:18.306534Z",
     "iopub.status.idle": "2022-08-24T10:36:18.396005Z",
     "shell.execute_reply": "2022-08-24T10:36:18.394783Z"
    },
    "papermill": {
     "duration": 0.106757,
     "end_time": "2022-08-24T10:36:18.398407",
     "exception": false,
     "start_time": "2022-08-24T10:36:18.291650",
     "status": "completed"
    },
    "tags": []
   },
   "outputs": [
    {
     "data": {
      "text/plain": [
       "PatientId          62299\n",
       "AppointmentID     110527\n",
       "Gender                 2\n",
       "ScheduledDay      103549\n",
       "AppointmentDay        27\n",
       "Age                  104\n",
       "Neighbourhood         81\n",
       "Scholarship            2\n",
       "Hipertension           2\n",
       "Diabetes               2\n",
       "Alcoholism             2\n",
       "Handcap                5\n",
       "SMS_received           2\n",
       "No-show                2\n",
       "dtype: int64"
      ]
     },
     "execution_count": 5,
     "metadata": {},
     "output_type": "execute_result"
    }
   ],
   "source": [
    "df.nunique()"
   ]
  },
  {
   "cell_type": "markdown",
   "id": "a1ffa842",
   "metadata": {
    "papermill": {
     "duration": 0.012746,
     "end_time": "2022-08-24T10:36:18.424797",
     "exception": false,
     "start_time": "2022-08-24T10:36:18.412051",
     "status": "completed"
    },
    "tags": []
   },
   "source": [
    "Cross checking the unique values provided. Appointment day and Neighbourhood are quite low for this amount of entries so i'll take a second look later to try and see what happend."
   ]
  },
  {
   "cell_type": "code",
   "execution_count": 6,
   "id": "5b4af548",
   "metadata": {
    "execution": {
     "iopub.execute_input": "2022-08-24T10:36:18.453883Z",
     "iopub.status.busy": "2022-08-24T10:36:18.452840Z",
     "iopub.status.idle": "2022-08-24T10:36:18.465392Z",
     "shell.execute_reply": "2022-08-24T10:36:18.464359Z"
    },
    "papermill": {
     "duration": 0.029872,
     "end_time": "2022-08-24T10:36:18.467930",
     "exception": false,
     "start_time": "2022-08-24T10:36:18.438058",
     "status": "completed"
    },
    "tags": []
   },
   "outputs": [
    {
     "data": {
      "text/html": [
       "<div>\n",
       "<style scoped>\n",
       "    .dataframe tbody tr th:only-of-type {\n",
       "        vertical-align: middle;\n",
       "    }\n",
       "\n",
       "    .dataframe tbody tr th {\n",
       "        vertical-align: top;\n",
       "    }\n",
       "\n",
       "    .dataframe thead th {\n",
       "        text-align: right;\n",
       "    }\n",
       "</style>\n",
       "<table border=\"1\" class=\"dataframe\">\n",
       "  <thead>\n",
       "    <tr style=\"text-align: right;\">\n",
       "      <th></th>\n",
       "      <th>patient_id</th>\n",
       "      <th>AppointmentID</th>\n",
       "      <th>Gender</th>\n",
       "      <th>scheduled_day</th>\n",
       "      <th>appointment_day</th>\n",
       "      <th>Age</th>\n",
       "      <th>Neighbourhood</th>\n",
       "      <th>Scholarship</th>\n",
       "      <th>hypertension</th>\n",
       "      <th>Diabetes</th>\n",
       "      <th>Alcoholism</th>\n",
       "      <th>handicap</th>\n",
       "      <th>SMS_received</th>\n",
       "      <th>no_show</th>\n",
       "    </tr>\n",
       "  </thead>\n",
       "  <tbody>\n",
       "  </tbody>\n",
       "</table>\n",
       "</div>"
      ],
      "text/plain": [
       "Empty DataFrame\n",
       "Columns: [patient_id, AppointmentID, Gender, scheduled_day, appointment_day, Age, Neighbourhood, Scholarship, hypertension, Diabetes, Alcoholism, handicap, SMS_received, no_show]\n",
       "Index: []"
      ]
     },
     "execution_count": 6,
     "metadata": {},
     "output_type": "execute_result"
    }
   ],
   "source": [
    "df.rename(columns = {\"PatientId\":\"patient_id\",\"ScheduledDay\":\"scheduled_day\",\"AppointmentDay\":\"appointment_day\",\n",
    "           \"Hipertension\":\"hypertension\",\"Handcap\":\"handicap\",\"No-show\":\"no_show\"},inplace = True)\n",
    "df.head(0)"
   ]
  },
  {
   "cell_type": "code",
   "execution_count": 7,
   "id": "7e16e739",
   "metadata": {
    "execution": {
     "iopub.execute_input": "2022-08-24T10:36:18.497691Z",
     "iopub.status.busy": "2022-08-24T10:36:18.496542Z",
     "iopub.status.idle": "2022-08-24T10:36:18.508248Z",
     "shell.execute_reply": "2022-08-24T10:36:18.507345Z"
    },
    "papermill": {
     "duration": 0.029225,
     "end_time": "2022-08-24T10:36:18.510749",
     "exception": false,
     "start_time": "2022-08-24T10:36:18.481524",
     "status": "completed"
    },
    "tags": []
   },
   "outputs": [
    {
     "data": {
      "text/html": [
       "<div>\n",
       "<style scoped>\n",
       "    .dataframe tbody tr th:only-of-type {\n",
       "        vertical-align: middle;\n",
       "    }\n",
       "\n",
       "    .dataframe tbody tr th {\n",
       "        vertical-align: top;\n",
       "    }\n",
       "\n",
       "    .dataframe thead th {\n",
       "        text-align: right;\n",
       "    }\n",
       "</style>\n",
       "<table border=\"1\" class=\"dataframe\">\n",
       "  <thead>\n",
       "    <tr style=\"text-align: right;\">\n",
       "      <th></th>\n",
       "      <th>patient_id</th>\n",
       "      <th>appointmentid</th>\n",
       "      <th>gender</th>\n",
       "      <th>scheduled_day</th>\n",
       "      <th>appointment_day</th>\n",
       "      <th>age</th>\n",
       "      <th>neighbourhood</th>\n",
       "      <th>scholarship</th>\n",
       "      <th>hypertension</th>\n",
       "      <th>diabetes</th>\n",
       "      <th>alcoholism</th>\n",
       "      <th>handicap</th>\n",
       "      <th>sms_received</th>\n",
       "      <th>no_show</th>\n",
       "    </tr>\n",
       "  </thead>\n",
       "  <tbody>\n",
       "  </tbody>\n",
       "</table>\n",
       "</div>"
      ],
      "text/plain": [
       "Empty DataFrame\n",
       "Columns: [patient_id, appointmentid, gender, scheduled_day, appointment_day, age, neighbourhood, scholarship, hypertension, diabetes, alcoholism, handicap, sms_received, no_show]\n",
       "Index: []"
      ]
     },
     "execution_count": 7,
     "metadata": {},
     "output_type": "execute_result"
    }
   ],
   "source": [
    "df.columns = df.columns.str.lower()\n",
    "df.head(0)"
   ]
  },
  {
   "cell_type": "markdown",
   "id": "ea3428d0",
   "metadata": {
    "papermill": {
     "duration": 0.012916,
     "end_time": "2022-08-24T10:36:18.537236",
     "exception": false,
     "start_time": "2022-08-24T10:36:18.524320",
     "status": "completed"
    },
    "tags": []
   },
   "source": [
    "I renamed and formatted the column name to make it more conducive for later data manipulation"
   ]
  },
  {
   "cell_type": "code",
   "execution_count": 8,
   "id": "3dbb66a8",
   "metadata": {
    "execution": {
     "iopub.execute_input": "2022-08-24T10:36:18.566749Z",
     "iopub.status.busy": "2022-08-24T10:36:18.565720Z",
     "iopub.status.idle": "2022-08-24T10:36:18.640189Z",
     "shell.execute_reply": "2022-08-24T10:36:18.638750Z"
    },
    "papermill": {
     "duration": 0.092115,
     "end_time": "2022-08-24T10:36:18.642943",
     "exception": false,
     "start_time": "2022-08-24T10:36:18.550828",
     "status": "completed"
    },
    "tags": []
   },
   "outputs": [
    {
     "data": {
      "text/html": [
       "<div>\n",
       "<style scoped>\n",
       "    .dataframe tbody tr th:only-of-type {\n",
       "        vertical-align: middle;\n",
       "    }\n",
       "\n",
       "    .dataframe tbody tr th {\n",
       "        vertical-align: top;\n",
       "    }\n",
       "\n",
       "    .dataframe thead th {\n",
       "        text-align: right;\n",
       "    }\n",
       "</style>\n",
       "<table border=\"1\" class=\"dataframe\">\n",
       "  <thead>\n",
       "    <tr style=\"text-align: right;\">\n",
       "      <th></th>\n",
       "      <th>patient_id</th>\n",
       "      <th>appointmentid</th>\n",
       "      <th>age</th>\n",
       "      <th>scholarship</th>\n",
       "      <th>hypertension</th>\n",
       "      <th>diabetes</th>\n",
       "      <th>alcoholism</th>\n",
       "      <th>handicap</th>\n",
       "      <th>sms_received</th>\n",
       "    </tr>\n",
       "  </thead>\n",
       "  <tbody>\n",
       "    <tr>\n",
       "      <th>count</th>\n",
       "      <td>1.105270e+05</td>\n",
       "      <td>1.105270e+05</td>\n",
       "      <td>110527.000000</td>\n",
       "      <td>110527.000000</td>\n",
       "      <td>110527.000000</td>\n",
       "      <td>110527.000000</td>\n",
       "      <td>110527.000000</td>\n",
       "      <td>110527.000000</td>\n",
       "      <td>110527.000000</td>\n",
       "    </tr>\n",
       "    <tr>\n",
       "      <th>mean</th>\n",
       "      <td>1.474963e+14</td>\n",
       "      <td>5.675305e+06</td>\n",
       "      <td>37.088874</td>\n",
       "      <td>0.098266</td>\n",
       "      <td>0.197246</td>\n",
       "      <td>0.071865</td>\n",
       "      <td>0.030400</td>\n",
       "      <td>0.022248</td>\n",
       "      <td>0.321026</td>\n",
       "    </tr>\n",
       "    <tr>\n",
       "      <th>std</th>\n",
       "      <td>2.560949e+14</td>\n",
       "      <td>7.129575e+04</td>\n",
       "      <td>23.110205</td>\n",
       "      <td>0.297675</td>\n",
       "      <td>0.397921</td>\n",
       "      <td>0.258265</td>\n",
       "      <td>0.171686</td>\n",
       "      <td>0.161543</td>\n",
       "      <td>0.466873</td>\n",
       "    </tr>\n",
       "    <tr>\n",
       "      <th>min</th>\n",
       "      <td>3.921784e+04</td>\n",
       "      <td>5.030230e+06</td>\n",
       "      <td>-1.000000</td>\n",
       "      <td>0.000000</td>\n",
       "      <td>0.000000</td>\n",
       "      <td>0.000000</td>\n",
       "      <td>0.000000</td>\n",
       "      <td>0.000000</td>\n",
       "      <td>0.000000</td>\n",
       "    </tr>\n",
       "    <tr>\n",
       "      <th>25%</th>\n",
       "      <td>4.172614e+12</td>\n",
       "      <td>5.640286e+06</td>\n",
       "      <td>18.000000</td>\n",
       "      <td>0.000000</td>\n",
       "      <td>0.000000</td>\n",
       "      <td>0.000000</td>\n",
       "      <td>0.000000</td>\n",
       "      <td>0.000000</td>\n",
       "      <td>0.000000</td>\n",
       "    </tr>\n",
       "    <tr>\n",
       "      <th>50%</th>\n",
       "      <td>3.173184e+13</td>\n",
       "      <td>5.680573e+06</td>\n",
       "      <td>37.000000</td>\n",
       "      <td>0.000000</td>\n",
       "      <td>0.000000</td>\n",
       "      <td>0.000000</td>\n",
       "      <td>0.000000</td>\n",
       "      <td>0.000000</td>\n",
       "      <td>0.000000</td>\n",
       "    </tr>\n",
       "    <tr>\n",
       "      <th>75%</th>\n",
       "      <td>9.439172e+13</td>\n",
       "      <td>5.725524e+06</td>\n",
       "      <td>55.000000</td>\n",
       "      <td>0.000000</td>\n",
       "      <td>0.000000</td>\n",
       "      <td>0.000000</td>\n",
       "      <td>0.000000</td>\n",
       "      <td>0.000000</td>\n",
       "      <td>1.000000</td>\n",
       "    </tr>\n",
       "    <tr>\n",
       "      <th>max</th>\n",
       "      <td>9.999816e+14</td>\n",
       "      <td>5.790484e+06</td>\n",
       "      <td>115.000000</td>\n",
       "      <td>1.000000</td>\n",
       "      <td>1.000000</td>\n",
       "      <td>1.000000</td>\n",
       "      <td>1.000000</td>\n",
       "      <td>4.000000</td>\n",
       "      <td>1.000000</td>\n",
       "    </tr>\n",
       "  </tbody>\n",
       "</table>\n",
       "</div>"
      ],
      "text/plain": [
       "         patient_id  appointmentid            age    scholarship  \\\n",
       "count  1.105270e+05   1.105270e+05  110527.000000  110527.000000   \n",
       "mean   1.474963e+14   5.675305e+06      37.088874       0.098266   \n",
       "std    2.560949e+14   7.129575e+04      23.110205       0.297675   \n",
       "min    3.921784e+04   5.030230e+06      -1.000000       0.000000   \n",
       "25%    4.172614e+12   5.640286e+06      18.000000       0.000000   \n",
       "50%    3.173184e+13   5.680573e+06      37.000000       0.000000   \n",
       "75%    9.439172e+13   5.725524e+06      55.000000       0.000000   \n",
       "max    9.999816e+14   5.790484e+06     115.000000       1.000000   \n",
       "\n",
       "        hypertension       diabetes     alcoholism       handicap  \\\n",
       "count  110527.000000  110527.000000  110527.000000  110527.000000   \n",
       "mean        0.197246       0.071865       0.030400       0.022248   \n",
       "std         0.397921       0.258265       0.171686       0.161543   \n",
       "min         0.000000       0.000000       0.000000       0.000000   \n",
       "25%         0.000000       0.000000       0.000000       0.000000   \n",
       "50%         0.000000       0.000000       0.000000       0.000000   \n",
       "75%         0.000000       0.000000       0.000000       0.000000   \n",
       "max         1.000000       1.000000       1.000000       4.000000   \n",
       "\n",
       "        sms_received  \n",
       "count  110527.000000  \n",
       "mean        0.321026  \n",
       "std         0.466873  \n",
       "min         0.000000  \n",
       "25%         0.000000  \n",
       "50%         0.000000  \n",
       "75%         1.000000  \n",
       "max         1.000000  "
      ]
     },
     "execution_count": 8,
     "metadata": {},
     "output_type": "execute_result"
    }
   ],
   "source": [
    "df.describe()"
   ]
  },
  {
   "cell_type": "markdown",
   "id": "7ecfe1a6",
   "metadata": {
    "papermill": {
     "duration": 0.01337,
     "end_time": "2022-08-24T10:36:18.670498",
     "exception": false,
     "start_time": "2022-08-24T10:36:18.657128",
     "status": "completed"
    },
    "tags": []
   },
   "source": [
    "Taking a look at some statistical information about the data.The mean for the age of patients is 37 years old, but it also shows a minimum age of -1 which should be an error."
   ]
  },
  {
   "cell_type": "code",
   "execution_count": 9,
   "id": "b2a77c04",
   "metadata": {
    "execution": {
     "iopub.execute_input": "2022-08-24T10:36:18.699930Z",
     "iopub.status.busy": "2022-08-24T10:36:18.698984Z",
     "iopub.status.idle": "2022-08-24T10:36:18.720785Z",
     "shell.execute_reply": "2022-08-24T10:36:18.719820Z"
    },
    "papermill": {
     "duration": 0.039195,
     "end_time": "2022-08-24T10:36:18.723228",
     "exception": false,
     "start_time": "2022-08-24T10:36:18.684033",
     "status": "completed"
    },
    "tags": []
   },
   "outputs": [
    {
     "data": {
      "text/html": [
       "<div>\n",
       "<style scoped>\n",
       "    .dataframe tbody tr th:only-of-type {\n",
       "        vertical-align: middle;\n",
       "    }\n",
       "\n",
       "    .dataframe tbody tr th {\n",
       "        vertical-align: top;\n",
       "    }\n",
       "\n",
       "    .dataframe thead th {\n",
       "        text-align: right;\n",
       "    }\n",
       "</style>\n",
       "<table border=\"1\" class=\"dataframe\">\n",
       "  <thead>\n",
       "    <tr style=\"text-align: right;\">\n",
       "      <th></th>\n",
       "      <th>patient_id</th>\n",
       "      <th>appointmentid</th>\n",
       "      <th>gender</th>\n",
       "      <th>scheduled_day</th>\n",
       "      <th>appointment_day</th>\n",
       "      <th>age</th>\n",
       "      <th>neighbourhood</th>\n",
       "      <th>scholarship</th>\n",
       "      <th>hypertension</th>\n",
       "      <th>diabetes</th>\n",
       "      <th>alcoholism</th>\n",
       "      <th>handicap</th>\n",
       "      <th>sms_received</th>\n",
       "      <th>no_show</th>\n",
       "    </tr>\n",
       "  </thead>\n",
       "  <tbody>\n",
       "    <tr>\n",
       "      <th>99832</th>\n",
       "      <td>4.659432e+14</td>\n",
       "      <td>5775010</td>\n",
       "      <td>F</td>\n",
       "      <td>2016-06-06T08:58:13Z</td>\n",
       "      <td>2016-06-06T00:00:00Z</td>\n",
       "      <td>-1</td>\n",
       "      <td>ROMÃO</td>\n",
       "      <td>0</td>\n",
       "      <td>0</td>\n",
       "      <td>0</td>\n",
       "      <td>0</td>\n",
       "      <td>0</td>\n",
       "      <td>0</td>\n",
       "      <td>No</td>\n",
       "    </tr>\n",
       "  </tbody>\n",
       "</table>\n",
       "</div>"
      ],
      "text/plain": [
       "         patient_id  appointmentid gender         scheduled_day  \\\n",
       "99832  4.659432e+14        5775010      F  2016-06-06T08:58:13Z   \n",
       "\n",
       "            appointment_day  age neighbourhood  scholarship  hypertension  \\\n",
       "99832  2016-06-06T00:00:00Z   -1         ROMÃO            0             0   \n",
       "\n",
       "       diabetes  alcoholism  handicap  sms_received no_show  \n",
       "99832         0           0         0             0      No  "
      ]
     },
     "execution_count": 9,
     "metadata": {},
     "output_type": "execute_result"
    }
   ],
   "source": [
    "df_age = df.query('age < 0')\n",
    "df_age"
   ]
  },
  {
   "cell_type": "markdown",
   "id": "e971b8ce",
   "metadata": {
    "papermill": {
     "duration": 0.013736,
     "end_time": "2022-08-24T10:36:18.750877",
     "exception": false,
     "start_time": "2022-08-24T10:36:18.737141",
     "status": "completed"
    },
    "tags": []
   },
   "source": [
    "This is the errant entry in the age column."
   ]
  },
  {
   "cell_type": "code",
   "execution_count": 10,
   "id": "79c686fb",
   "metadata": {
    "execution": {
     "iopub.execute_input": "2022-08-24T10:36:18.780200Z",
     "iopub.status.busy": "2022-08-24T10:36:18.779726Z",
     "iopub.status.idle": "2022-08-24T10:36:18.809461Z",
     "shell.execute_reply": "2022-08-24T10:36:18.808192Z"
    },
    "papermill": {
     "duration": 0.047607,
     "end_time": "2022-08-24T10:36:18.812191",
     "exception": false,
     "start_time": "2022-08-24T10:36:18.764584",
     "status": "completed"
    },
    "tags": []
   },
   "outputs": [
    {
     "data": {
      "text/plain": [
       "count    110526.000000\n",
       "mean         37.089219\n",
       "std          23.110026\n",
       "min           0.000000\n",
       "25%          18.000000\n",
       "50%          37.000000\n",
       "75%          55.000000\n",
       "max         115.000000\n",
       "Name: age, dtype: float64"
      ]
     },
     "execution_count": 10,
     "metadata": {},
     "output_type": "execute_result"
    }
   ],
   "source": [
    "df.drop([99832], axis = 0, inplace = True)\n",
    "df.age.describe()"
   ]
  },
  {
   "cell_type": "markdown",
   "id": "fa786281",
   "metadata": {
    "papermill": {
     "duration": 0.013475,
     "end_time": "2022-08-24T10:36:18.839696",
     "exception": false,
     "start_time": "2022-08-24T10:36:18.826221",
     "status": "completed"
    },
    "tags": []
   },
   "source": [
    "I discarded the age entry of -1 to avoid the outlier/mistake affecting the data"
   ]
  },
  {
   "cell_type": "code",
   "execution_count": 11,
   "id": "1a71d0d9",
   "metadata": {
    "execution": {
     "iopub.execute_input": "2022-08-24T10:36:18.869697Z",
     "iopub.status.busy": "2022-08-24T10:36:18.868887Z",
     "iopub.status.idle": "2022-08-24T10:36:18.892601Z",
     "shell.execute_reply": "2022-08-24T10:36:18.891045Z"
    },
    "papermill": {
     "duration": 0.042122,
     "end_time": "2022-08-24T10:36:18.895556",
     "exception": false,
     "start_time": "2022-08-24T10:36:18.853434",
     "status": "completed"
    },
    "tags": []
   },
   "outputs": [
    {
     "data": {
      "text/plain": [
       "Index(['patient_id', 'gender', 'scheduled_day', 'appointment_day', 'age',\n",
       "       'neighbourhood', 'scholarship', 'hypertension', 'diabetes',\n",
       "       'alcoholism', 'handicap', 'sms_received', 'no_show'],\n",
       "      dtype='object')"
      ]
     },
     "execution_count": 11,
     "metadata": {},
     "output_type": "execute_result"
    }
   ],
   "source": [
    "df.drop(['appointmentid'],axis = 1, inplace = True)\n",
    "df.columns"
   ]
  },
  {
   "cell_type": "code",
   "execution_count": 12,
   "id": "1848e7bb",
   "metadata": {
    "execution": {
     "iopub.execute_input": "2022-08-24T10:36:18.926388Z",
     "iopub.status.busy": "2022-08-24T10:36:18.925925Z",
     "iopub.status.idle": "2022-08-24T10:36:19.044654Z",
     "shell.execute_reply": "2022-08-24T10:36:19.043105Z"
    },
    "papermill": {
     "duration": 0.140421,
     "end_time": "2022-08-24T10:36:19.050454",
     "exception": false,
     "start_time": "2022-08-24T10:36:18.910033",
     "status": "completed"
    },
    "tags": []
   },
   "outputs": [
    {
     "data": {
      "text/plain": [
       "dtype('O')"
      ]
     },
     "execution_count": 12,
     "metadata": {},
     "output_type": "execute_result"
    }
   ],
   "source": [
    "df['patient_id'] = df['patient_id'].astype('str')\n",
    "df['patient_id'].dtype"
   ]
  },
  {
   "cell_type": "code",
   "execution_count": 13,
   "id": "303533ce",
   "metadata": {
    "execution": {
     "iopub.execute_input": "2022-08-24T10:36:19.085489Z",
     "iopub.status.busy": "2022-08-24T10:36:19.084882Z",
     "iopub.status.idle": "2022-08-24T10:36:20.208858Z",
     "shell.execute_reply": "2022-08-24T10:36:20.207031Z"
    },
    "papermill": {
     "duration": 1.14562,
     "end_time": "2022-08-24T10:36:20.211738",
     "exception": false,
     "start_time": "2022-08-24T10:36:19.066118",
     "status": "completed"
    },
    "tags": []
   },
   "outputs": [
    {
     "data": {
      "image/png": "[encoded data removed]",
      "text/plain": [
       "<Figure size 720x720 with 9 Axes>"
      ]
     },
     "metadata": {
      "needs_background": "light"
     },
     "output_type": "display_data"
    }
   ],
   "source": [
    "df.hist(figsize = (10, 10));"
   ]
  },
  {
   "cell_type": "code",
   "execution_count": 14,
   "id": "b9d0baf5",
   "metadata": {
    "execution": {
     "iopub.execute_input": "2022-08-24T10:36:20.243709Z",
     "iopub.status.busy": "2022-08-24T10:36:20.243258Z",
     "iopub.status.idle": "2022-08-24T10:36:20.254526Z",
     "shell.execute_reply": "2022-08-24T10:36:20.253363Z"
    },
    "papermill": {
     "duration": 0.029833,
     "end_time": "2022-08-24T10:36:20.257011",
     "exception": false,
     "start_time": "2022-08-24T10:36:20.227178",
     "status": "completed"
    },
    "tags": []
   },
   "outputs": [
    {
     "data": {
      "text/plain": [
       "0    108285\n",
       "1      2042\n",
       "2       183\n",
       "3        13\n",
       "4         3\n",
       "Name: handicap, dtype: int64"
      ]
     },
     "execution_count": 14,
     "metadata": {},
     "output_type": "execute_result"
    }
   ],
   "source": [
    "df['handicap'].value_counts()"
   ]
  },
  {
   "cell_type": "code",
   "execution_count": 15,
   "id": "de97e707",
   "metadata": {
    "execution": {
     "iopub.execute_input": "2022-08-24T10:36:20.288880Z",
     "iopub.status.busy": "2022-08-24T10:36:20.288445Z",
     "iopub.status.idle": "2022-08-24T10:36:20.305276Z",
     "shell.execute_reply": "2022-08-24T10:36:20.304371Z"
    },
    "papermill": {
     "duration": 0.03562,
     "end_time": "2022-08-24T10:36:20.307518",
     "exception": false,
     "start_time": "2022-08-24T10:36:20.271898",
     "status": "completed"
    },
    "tags": []
   },
   "outputs": [
    {
     "data": {
      "text/plain": [
       "0.0    108285\n",
       "1.0      2042\n",
       "Name: handicap, dtype: int64"
      ]
     },
     "execution_count": 15,
     "metadata": {},
     "output_type": "execute_result"
    }
   ],
   "source": [
    "df['handicap'].replace([2,3,4],np.nan,inplace=True)\n",
    "df['handicap'].value_counts()"
   ]
  },
  {
   "cell_type": "code",
   "execution_count": 16,
   "id": "799db168",
   "metadata": {
    "execution": {
     "iopub.execute_input": "2022-08-24T10:36:20.339652Z",
     "iopub.status.busy": "2022-08-24T10:36:20.338920Z",
     "iopub.status.idle": "2022-08-24T10:36:20.411420Z",
     "shell.execute_reply": "2022-08-24T10:36:20.410082Z"
    },
    "papermill": {
     "duration": 0.091673,
     "end_time": "2022-08-24T10:36:20.414150",
     "exception": false,
     "start_time": "2022-08-24T10:36:20.322477",
     "status": "completed"
    },
    "tags": []
   },
   "outputs": [
    {
     "data": {
      "text/plain": [
       "0         0\n",
       "1         0\n",
       "2         0\n",
       "3         0\n",
       "4         0\n",
       "         ..\n",
       "110522    0\n",
       "110523    0\n",
       "110524    0\n",
       "110525    0\n",
       "110526    0\n",
       "Name: no_show, Length: 110526, dtype: int64"
      ]
     },
     "execution_count": 16,
     "metadata": {},
     "output_type": "execute_result"
    }
   ],
   "source": [
    "df['no_show'] = [1 if x == 'Yes' else 0 for x in df['no_show']]\n",
    "df['no_show']"
   ]
  },
  {
   "cell_type": "code",
   "execution_count": 17,
   "id": "9427b60f",
   "metadata": {
    "execution": {
     "iopub.execute_input": "2022-08-24T10:36:20.446693Z",
     "iopub.status.busy": "2022-08-24T10:36:20.445881Z",
     "iopub.status.idle": "2022-08-24T10:36:20.505707Z",
     "shell.execute_reply": "2022-08-24T10:36:20.504385Z"
    },
    "papermill": {
     "duration": 0.079063,
     "end_time": "2022-08-24T10:36:20.508268",
     "exception": false,
     "start_time": "2022-08-24T10:36:20.429205",
     "status": "completed"
    },
    "tags": []
   },
   "outputs": [
    {
     "data": {
      "text/plain": [
       "822145925426128.0    88\n",
       "99637671331.0        84\n",
       "26886125921145.0     70\n",
       "33534783483176.0     65\n",
       "6264198675331.0      62\n",
       "Name: patient_id, dtype: int64"
      ]
     },
     "execution_count": 17,
     "metadata": {},
     "output_type": "execute_result"
    }
   ],
   "source": [
    "df.patient_id.value_counts().head()"
   ]
  },
  {
   "cell_type": "code",
   "execution_count": 18,
   "id": "3229aa86",
   "metadata": {
    "execution": {
     "iopub.execute_input": "2022-08-24T10:36:20.540876Z",
     "iopub.status.busy": "2022-08-24T10:36:20.539632Z",
     "iopub.status.idle": "2022-08-24T10:36:20.591541Z",
     "shell.execute_reply": "2022-08-24T10:36:20.590596Z"
    },
    "papermill": {
     "duration": 0.070827,
     "end_time": "2022-08-24T10:36:20.594169",
     "exception": false,
     "start_time": "2022-08-24T10:36:20.523342",
     "status": "completed"
    },
    "tags": []
   },
   "outputs": [],
   "source": [
    "df.drop_duplicates('patient_id',inplace=True)"
   ]
  },
  {
   "cell_type": "code",
   "execution_count": 19,
   "id": "a850aa33",
   "metadata": {
    "execution": {
     "iopub.execute_input": "2022-08-24T10:36:20.626688Z",
     "iopub.status.busy": "2022-08-24T10:36:20.625485Z",
     "iopub.status.idle": "2022-08-24T10:36:20.673460Z",
     "shell.execute_reply": "2022-08-24T10:36:20.672087Z"
    },
    "papermill": {
     "duration": 0.067046,
     "end_time": "2022-08-24T10:36:20.676164",
     "exception": false,
     "start_time": "2022-08-24T10:36:20.609118",
     "status": "completed"
    },
    "tags": []
   },
   "outputs": [
    {
     "data": {
      "text/plain": [
       "29872499824296.0    1\n",
       "287795738325.0      1\n",
       "62147718285887.0    1\n",
       "5262882256853.0     1\n",
       "4765194286359.0     1\n",
       "Name: patient_id, dtype: int64"
      ]
     },
     "execution_count": 19,
     "metadata": {},
     "output_type": "execute_result"
    }
   ],
   "source": [
    "df.patient_id.value_counts().head()"
   ]
  },
  {
   "cell_type": "code",
   "execution_count": 20,
   "id": "a703a447",
   "metadata": {
    "execution": {
     "iopub.execute_input": "2022-08-24T10:36:20.709362Z",
     "iopub.status.busy": "2022-08-24T10:36:20.708134Z",
     "iopub.status.idle": "2022-08-24T10:36:20.737627Z",
     "shell.execute_reply": "2022-08-24T10:36:20.736368Z"
    },
    "papermill": {
     "duration": 0.04879,
     "end_time": "2022-08-24T10:36:20.740224",
     "exception": false,
     "start_time": "2022-08-24T10:36:20.691434",
     "status": "completed"
    },
    "tags": []
   },
   "outputs": [
    {
     "name": "stdout",
     "output_type": "stream",
     "text": [
      "<class 'pandas.core.frame.DataFrame'>\n",
      "Int64Index: 62298 entries, 0 to 110524\n",
      "Data columns (total 13 columns):\n",
      " #   Column           Non-Null Count  Dtype  \n",
      "---  ------           --------------  -----  \n",
      " 0   patient_id       62298 non-null  object \n",
      " 1   gender           62298 non-null  object \n",
      " 2   scheduled_day    62298 non-null  object \n",
      " 3   appointment_day  62298 non-null  object \n",
      " 4   age              62298 non-null  int64  \n",
      " 5   neighbourhood    62298 non-null  object \n",
      " 6   scholarship      62298 non-null  int64  \n",
      " 7   hypertension     62298 non-null  int64  \n",
      " 8   diabetes         62298 non-null  int64  \n",
      " 9   alcoholism       62298 non-null  int64  \n",
      " 10  handicap         62190 non-null  float64\n",
      " 11  sms_received     62298 non-null  int64  \n",
      " 12  no_show          62298 non-null  int64  \n",
      "dtypes: float64(1), int64(7), object(5)\n",
      "memory usage: 6.7+ MB\n"
     ]
    }
   ],
   "source": [
    "df.info()"
   ]
  },
  {
   "cell_type": "code",
   "execution_count": null,
   "id": "7fbf09a6",
   "metadata": {
    "papermill": {
     "duration": 0.01504,
     "end_time": "2022-08-24T10:36:20.770578",
     "exception": false,
     "start_time": "2022-08-24T10:36:20.755538",
     "status": "completed"
    },
    "tags": []
   },
   "outputs": [],
   "source": []
  },
  {
   "cell_type": "code",
   "execution_count": 21,
   "id": "50b3680f",
   "metadata": {
    "execution": {
     "iopub.execute_input": "2022-08-24T10:36:20.803914Z",
     "iopub.status.busy": "2022-08-24T10:36:20.803227Z",
     "iopub.status.idle": "2022-08-24T10:36:20.815058Z",
     "shell.execute_reply": "2022-08-24T10:36:20.813866Z"
    },
    "papermill": {
     "duration": 0.031452,
     "end_time": "2022-08-24T10:36:20.817313",
     "exception": false,
     "start_time": "2022-08-24T10:36:20.785861",
     "status": "completed"
    },
    "tags": []
   },
   "outputs": [
    {
     "data": {
      "text/plain": [
       "F    40045\n",
       "M    22253\n",
       "Name: gender, dtype: int64"
      ]
     },
     "execution_count": 21,
     "metadata": {},
     "output_type": "execute_result"
    }
   ],
   "source": [
    "df.gender.value_counts()"
   ]
  },
  {
   "cell_type": "code",
   "execution_count": 22,
   "id": "991df0b1",
   "metadata": {
    "execution": {
     "iopub.execute_input": "2022-08-24T10:36:20.850815Z",
     "iopub.status.busy": "2022-08-24T10:36:20.850146Z",
     "iopub.status.idle": "2022-08-24T10:36:20.962011Z",
     "shell.execute_reply": "2022-08-24T10:36:20.960079Z"
    },
    "papermill": {
     "duration": 0.134455,
     "end_time": "2022-08-24T10:36:20.967092",
     "exception": false,
     "start_time": "2022-08-24T10:36:20.832637",
     "status": "completed"
    },
    "tags": []
   },
   "outputs": [
    {
     "data": {
      "text/plain": [
       "<AxesSubplot:ylabel='gender'>"
      ]
     },
     "execution_count": 22,
     "metadata": {},
     "output_type": "execute_result"
    },
    {
     "data": {
      "image/png": "[encoded data removed]",
      "text/plain": [
       "<Figure size 432x288 with 1 Axes>"
      ]
     },
     "metadata": {},
     "output_type": "display_data"
    }
   ],
   "source": [
    "df.gender.value_counts().plot(kind=\"pie\")"
   ]
  },
  {
   "cell_type": "code",
   "execution_count": 23,
   "id": "72692387",
   "metadata": {
    "execution": {
     "iopub.execute_input": "2022-08-24T10:36:21.021158Z",
     "iopub.status.busy": "2022-08-24T10:36:21.019963Z",
     "iopub.status.idle": "2022-08-24T10:36:21.037839Z",
     "shell.execute_reply": "2022-08-24T10:36:21.036380Z"
    },
    "papermill": {
     "duration": 0.050167,
     "end_time": "2022-08-24T10:36:21.042651",
     "exception": false,
     "start_time": "2022-08-24T10:36:20.992484",
     "status": "completed"
    },
    "tags": []
   },
   "outputs": [
    {
     "data": {
      "text/plain": [
       "0    50105\n",
       "1    12193\n",
       "Name: no_show, dtype: int64"
      ]
     },
     "execution_count": 23,
     "metadata": {},
     "output_type": "execute_result"
    }
   ],
   "source": [
    "df['no_show'].value_counts()"
   ]
  },
  {
   "cell_type": "code",
   "execution_count": 24,
   "id": "b7297bfb",
   "metadata": {
    "execution": {
     "iopub.execute_input": "2022-08-24T10:36:21.081035Z",
     "iopub.status.busy": "2022-08-24T10:36:21.080501Z",
     "iopub.status.idle": "2022-08-24T10:36:21.184376Z",
     "shell.execute_reply": "2022-08-24T10:36:21.182887Z"
    },
    "papermill": {
     "duration": 0.125469,
     "end_time": "2022-08-24T10:36:21.188176",
     "exception": false,
     "start_time": "2022-08-24T10:36:21.062707",
     "status": "completed"
    },
    "tags": []
   },
   "outputs": [
    {
     "data": {
      "text/plain": [
       "<AxesSubplot:ylabel='no_show'>"
      ]
     },
     "execution_count": 24,
     "metadata": {},
     "output_type": "execute_result"
    },
    {
     "data": {
      "image/png": "[encoded data removed]",
      "text/plain": [
       "<Figure size 432x288 with 1 Axes>"
      ]
     },
     "metadata": {},
     "output_type": "display_data"
    }
   ],
   "source": [
    "df['no_show'].value_counts().plot(kind=\"pie\")"
   ]
  },
  {
   "cell_type": "code",
   "execution_count": 25,
   "id": "a06d759b",
   "metadata": {
    "execution": {
     "iopub.execute_input": "2022-08-24T10:36:21.244301Z",
     "iopub.status.busy": "2022-08-24T10:36:21.242778Z",
     "iopub.status.idle": "2022-08-24T10:36:21.255898Z",
     "shell.execute_reply": "2022-08-24T10:36:21.254540Z"
    },
    "papermill": {
     "duration": 0.044718,
     "end_time": "2022-08-24T10:36:21.259439",
     "exception": false,
     "start_time": "2022-08-24T10:36:21.214721",
     "status": "completed"
    },
    "tags": []
   },
   "outputs": [
    {
     "data": {
      "text/plain": [
       "0      2073\n",
       "1      1443\n",
       "2      1074\n",
       "3       966\n",
       "5       919\n",
       "       ... \n",
       "98        4\n",
       "100       3\n",
       "102       2\n",
       "115       2\n",
       "99        1\n",
       "Name: age, Length: 103, dtype: int64"
      ]
     },
     "execution_count": 25,
     "metadata": {},
     "output_type": "execute_result"
    }
   ],
   "source": [
    "df['age'].value_counts()"
   ]
  },
  {
   "cell_type": "code",
   "execution_count": 26,
   "id": "d8fb968f",
   "metadata": {
    "execution": {
     "iopub.execute_input": "2022-08-24T10:36:21.301797Z",
     "iopub.status.busy": "2022-08-24T10:36:21.301041Z",
     "iopub.status.idle": "2022-08-24T10:36:21.511708Z",
     "shell.execute_reply": "2022-08-24T10:36:21.510321Z"
    },
    "papermill": {
     "duration": 0.231121,
     "end_time": "2022-08-24T10:36:21.514375",
     "exception": false,
     "start_time": "2022-08-24T10:36:21.283254",
     "status": "completed"
    },
    "tags": []
   },
   "outputs": [
    {
     "data": {
      "image/png": "[encoded data removed]",
      "text/plain": [
       "<Figure size 432x288 with 1 Axes>"
      ]
     },
     "metadata": {
      "needs_background": "light"
     },
     "output_type": "display_data"
    }
   ],
   "source": [
    "df['age'].hist(bins=10)\n",
    "plt.xlabel('Age')\n",
    "plt.ylabel('Number of patients')\n",
    "plt.title('Age Distribution amongst patients')\n",
    "plt.show();"
   ]
  },
  {
   "cell_type": "code",
   "execution_count": 27,
   "id": "190575d7",
   "metadata": {
    "execution": {
     "iopub.execute_input": "2022-08-24T10:36:21.549692Z",
     "iopub.status.busy": "2022-08-24T10:36:21.549238Z",
     "iopub.status.idle": "2022-08-24T10:36:21.559525Z",
     "shell.execute_reply": "2022-08-24T10:36:21.558240Z"
    },
    "papermill": {
     "duration": 0.03093,
     "end_time": "2022-08-24T10:36:21.562064",
     "exception": false,
     "start_time": "2022-08-24T10:36:21.531134",
     "status": "completed"
    },
    "tags": []
   },
   "outputs": [
    {
     "data": {
      "text/plain": [
       "0    56510\n",
       "1     5788\n",
       "Name: scholarship, dtype: int64"
      ]
     },
     "execution_count": 27,
     "metadata": {},
     "output_type": "execute_result"
    }
   ],
   "source": [
    "df.scholarship.value_counts()"
   ]
  },
  {
   "cell_type": "code",
   "execution_count": 28,
   "id": "faeafdac",
   "metadata": {
    "execution": {
     "iopub.execute_input": "2022-08-24T10:36:21.597794Z",
     "iopub.status.busy": "2022-08-24T10:36:21.596965Z",
     "iopub.status.idle": "2022-08-24T10:36:21.606571Z",
     "shell.execute_reply": "2022-08-24T10:36:21.605531Z"
    },
    "papermill": {
     "duration": 0.030215,
     "end_time": "2022-08-24T10:36:21.608928",
     "exception": false,
     "start_time": "2022-08-24T10:36:21.578713",
     "status": "completed"
    },
    "tags": []
   },
   "outputs": [
    {
     "data": {
      "text/plain": [
       "0.0    61165\n",
       "1.0     1025\n",
       "Name: handicap, dtype: int64"
      ]
     },
     "execution_count": 28,
     "metadata": {},
     "output_type": "execute_result"
    }
   ],
   "source": [
    "df.handicap.value_counts()"
   ]
  },
  {
   "cell_type": "code",
   "execution_count": 29,
   "id": "f1ce1b18",
   "metadata": {
    "execution": {
     "iopub.execute_input": "2022-08-24T10:36:21.646397Z",
     "iopub.status.busy": "2022-08-24T10:36:21.645567Z",
     "iopub.status.idle": "2022-08-24T10:36:21.655159Z",
     "shell.execute_reply": "2022-08-24T10:36:21.654055Z"
    },
    "papermill": {
     "duration": 0.031876,
     "end_time": "2022-08-24T10:36:21.657717",
     "exception": false,
     "start_time": "2022-08-24T10:36:21.625841",
     "status": "completed"
    },
    "tags": []
   },
   "outputs": [
    {
     "data": {
      "text/plain": [
       "0    50056\n",
       "1    12242\n",
       "Name: hypertension, dtype: int64"
      ]
     },
     "execution_count": 29,
     "metadata": {},
     "output_type": "execute_result"
    }
   ],
   "source": [
    "df.hypertension.value_counts()"
   ]
  },
  {
   "cell_type": "code",
   "execution_count": 30,
   "id": "bcb08ee7",
   "metadata": {
    "execution": {
     "iopub.execute_input": "2022-08-24T10:36:21.695113Z",
     "iopub.status.busy": "2022-08-24T10:36:21.694683Z",
     "iopub.status.idle": "2022-08-24T10:36:21.704494Z",
     "shell.execute_reply": "2022-08-24T10:36:21.703319Z"
    },
    "papermill": {
     "duration": 0.031057,
     "end_time": "2022-08-24T10:36:21.706740",
     "exception": false,
     "start_time": "2022-08-24T10:36:21.675683",
     "status": "completed"
    },
    "tags": []
   },
   "outputs": [
    {
     "data": {
      "text/plain": [
       "0    60792\n",
       "1     1506\n",
       "Name: alcoholism, dtype: int64"
      ]
     },
     "execution_count": 30,
     "metadata": {},
     "output_type": "execute_result"
    }
   ],
   "source": [
    "df.alcoholism.value_counts()"
   ]
  },
  {
   "cell_type": "code",
   "execution_count": 31,
   "id": "0907070a",
   "metadata": {
    "execution": {
     "iopub.execute_input": "2022-08-24T10:36:21.744643Z",
     "iopub.status.busy": "2022-08-24T10:36:21.743295Z",
     "iopub.status.idle": "2022-08-24T10:36:21.752713Z",
     "shell.execute_reply": "2022-08-24T10:36:21.751545Z"
    },
    "papermill": {
     "duration": 0.031152,
     "end_time": "2022-08-24T10:36:21.755031",
     "exception": false,
     "start_time": "2022-08-24T10:36:21.723879",
     "status": "completed"
    },
    "tags": []
   },
   "outputs": [
    {
     "data": {
      "text/plain": [
       "0    41904\n",
       "1    20394\n",
       "Name: sms_received, dtype: int64"
      ]
     },
     "execution_count": 31,
     "metadata": {},
     "output_type": "execute_result"
    }
   ],
   "source": [
    "df.sms_received.value_counts()"
   ]
  },
  {
   "cell_type": "markdown",
   "id": "94714e5f",
   "metadata": {
    "papermill": {
     "duration": 0.016767,
     "end_time": "2022-08-24T10:36:21.789335",
     "exception": false,
     "start_time": "2022-08-24T10:36:21.772568",
     "status": "completed"
    },
    "tags": []
   },
   "source": [
    "****Questions"
   ]
  },
  {
   "cell_type": "markdown",
   "id": "b8faeb28",
   "metadata": {
    "papermill": {
     "duration": 0.017136,
     "end_time": "2022-08-24T10:36:21.823866",
     "exception": false,
     "start_time": "2022-08-24T10:36:21.806730",
     "status": "completed"
    },
    "tags": []
   },
   "source": [
    "The first question that came to mind while looking over the column information was if gender had any significant effect on keeping appointments in this data. So my first question is to explore that here."
   ]
  },
  {
   "cell_type": "code",
   "execution_count": 32,
   "id": "77b38f85",
   "metadata": {
    "execution": {
     "iopub.execute_input": "2022-08-24T10:36:21.860262Z",
     "iopub.status.busy": "2022-08-24T10:36:21.859540Z",
     "iopub.status.idle": "2022-08-24T10:36:22.051162Z",
     "shell.execute_reply": "2022-08-24T10:36:22.049945Z"
    },
    "papermill": {
     "duration": 0.213076,
     "end_time": "2022-08-24T10:36:22.054080",
     "exception": false,
     "start_time": "2022-08-24T10:36:21.841004",
     "status": "completed"
    },
    "tags": []
   },
   "outputs": [
    {
     "data": {
      "image/png": "[encoded data removed]",
      "text/plain": [
       "<Figure size 432x288 with 1 Axes>"
      ]
     },
     "metadata": {
      "needs_background": "light"
     },
     "output_type": "display_data"
    }
   ],
   "source": [
    "df.groupby(['gender'])['no_show'].value_counts().plot(kind=\"bar\")\n",
    "plt.xlabel('Gender attendance')\n",
    "plt.ylabel('Number of patients')\n",
    "plt.title('Gender attendance bar chart')\n",
    "plt.show();"
   ]
  },
  {
   "cell_type": "markdown",
   "id": "5e6a0377",
   "metadata": {
    "papermill": {
     "duration": 0.017164,
     "end_time": "2022-08-24T10:36:22.089462",
     "exception": false,
     "start_time": "2022-08-24T10:36:22.072298",
     "status": "completed"
    },
    "tags": []
   },
   "source": [
    "Although the females are quite alot more than males in this data, their proportion of attendance is more or less similar"
   ]
  },
  {
   "cell_type": "code",
   "execution_count": 33,
   "id": "bfb6006d",
   "metadata": {
    "execution": {
     "iopub.execute_input": "2022-08-24T10:36:22.128393Z",
     "iopub.status.busy": "2022-08-24T10:36:22.127608Z",
     "iopub.status.idle": "2022-08-24T10:36:22.149068Z",
     "shell.execute_reply": "2022-08-24T10:36:22.147577Z"
    },
    "papermill": {
     "duration": 0.044432,
     "end_time": "2022-08-24T10:36:22.151815",
     "exception": false,
     "start_time": "2022-08-24T10:36:22.107383",
     "status": "completed"
    },
    "tags": []
   },
   "outputs": [
    {
     "data": {
      "text/plain": [
       "gender  scholarship  no_show\n",
       "F       0            0          28582\n",
       "                     1           6762\n",
       "        1            0           3635\n",
       "                     1           1066\n",
       "M       0            0          17042\n",
       "                     1           4124\n",
       "        1            0            846\n",
       "                     1            241\n",
       "Name: no_show, dtype: int64"
      ]
     },
     "execution_count": 33,
     "metadata": {},
     "output_type": "execute_result"
    }
   ],
   "source": [
    "df.groupby(['gender','scholarship'])['no_show'].value_counts()\n"
   ]
  },
  {
   "cell_type": "code",
   "execution_count": 34,
   "id": "a9204176",
   "metadata": {
    "execution": {
     "iopub.execute_input": "2022-08-24T10:36:22.190097Z",
     "iopub.status.busy": "2022-08-24T10:36:22.189333Z",
     "iopub.status.idle": "2022-08-24T10:36:22.415754Z",
     "shell.execute_reply": "2022-08-24T10:36:22.414630Z"
    },
    "papermill": {
     "duration": 0.248844,
     "end_time": "2022-08-24T10:36:22.418338",
     "exception": false,
     "start_time": "2022-08-24T10:36:22.169494",
     "status": "completed"
    },
    "tags": []
   },
   "outputs": [
    {
     "data": {
      "image/png": "[encoded data removed]",
      "text/plain": [
       "<Figure size 432x288 with 1 Axes>"
      ]
     },
     "metadata": {
      "needs_background": "light"
     },
     "output_type": "display_data"
    }
   ],
   "source": [
    "df.groupby(['gender','scholarship'])['no_show'].value_counts().plot(kind='barh')\n",
    "plt.xlabel('Number of patients')\n",
    "plt.ylabel('Patient status distribution')\n",
    "plt.title('Distribution of patients bases on their sex, funding and attendance')\n",
    "plt.show();"
   ]
  },
  {
   "cell_type": "markdown",
   "id": "c9047822",
   "metadata": {
    "papermill": {
     "duration": 0.017704,
     "end_time": "2022-08-24T10:36:22.454224",
     "exception": false,
     "start_time": "2022-08-24T10:36:22.436520",
     "status": "completed"
    },
    "tags": []
   },
   "source": [
    "still on gender, i'd like to see the effects of extenuating circumstances like health problems etc on each gender."
   ]
  },
  {
   "cell_type": "code",
   "execution_count": 35,
   "id": "0738609d",
   "metadata": {
    "execution": {
     "iopub.execute_input": "2022-08-24T10:36:22.500083Z",
     "iopub.status.busy": "2022-08-24T10:36:22.499598Z",
     "iopub.status.idle": "2022-08-24T10:36:22.757050Z",
     "shell.execute_reply": "2022-08-24T10:36:22.755942Z"
    },
    "papermill": {
     "duration": 0.28711,
     "end_time": "2022-08-24T10:36:22.759641",
     "exception": false,
     "start_time": "2022-08-24T10:36:22.472531",
     "status": "completed"
    },
    "tags": []
   },
   "outputs": [
    {
     "data": {
      "image/png": "[encoded data removed]",
      "text/plain": [
       "<Figure size 1152x576 with 1 Axes>"
      ]
     },
     "metadata": {
      "needs_background": "light"
     },
     "output_type": "display_data"
    }
   ],
   "source": [
    "df[['gender','hypertension', 'diabetes', 'alcoholism', 'handicap']].groupby(['gender']).sum().plot(kind='barh',figsize=(16,8))\n",
    "plt.xlabel('Number of Affected')\n",
    "plt.ylabel('Gender')\n",
    "plt.title(\"Extenuating circumstances per gender\")\n",
    "plt.show();\n"
   ]
  },
  {
   "cell_type": "markdown",
   "id": "92144889",
   "metadata": {
    "papermill": {
     "duration": 0.018023,
     "end_time": "2022-08-24T10:36:22.796246",
     "exception": false,
     "start_time": "2022-08-24T10:36:22.778223",
     "status": "completed"
    },
    "tags": []
   },
   "source": [
    "Q2.  Effects of Sms sent on attendance."
   ]
  },
  {
   "cell_type": "code",
   "execution_count": 36,
   "id": "249ba051",
   "metadata": {
    "execution": {
     "iopub.execute_input": "2022-08-24T10:36:22.836108Z",
     "iopub.status.busy": "2022-08-24T10:36:22.835372Z",
     "iopub.status.idle": "2022-08-24T10:36:22.927859Z",
     "shell.execute_reply": "2022-08-24T10:36:22.926596Z"
    },
    "papermill": {
     "duration": 0.11582,
     "end_time": "2022-08-24T10:36:22.931021",
     "exception": false,
     "start_time": "2022-08-24T10:36:22.815201",
     "status": "completed"
    },
    "tags": []
   },
   "outputs": [
    {
     "data": {
      "text/plain": [
       "<AxesSubplot:ylabel='sms_received'>"
      ]
     },
     "execution_count": 36,
     "metadata": {},
     "output_type": "execute_result"
    },
    {
     "data": {
      "image/png": "[encoded data removed]",
      "text/plain": [
       "<Figure size 360x360 with 1 Axes>"
      ]
     },
     "metadata": {},
     "output_type": "display_data"
    }
   ],
   "source": [
    "df.sms_received.value_counts().plot(kind='pie',labels= ['No Text','Recieved'],figsize=(5,5))"
   ]
  },
  {
   "cell_type": "code",
   "execution_count": 37,
   "id": "d69f64bf",
   "metadata": {
    "execution": {
     "iopub.execute_input": "2022-08-24T10:36:22.995082Z",
     "iopub.status.busy": "2022-08-24T10:36:22.993935Z",
     "iopub.status.idle": "2022-08-24T10:36:23.019244Z",
     "shell.execute_reply": "2022-08-24T10:36:23.018298Z"
    },
    "papermill": {
     "duration": 0.06057,
     "end_time": "2022-08-24T10:36:23.022066",
     "exception": false,
     "start_time": "2022-08-24T10:36:22.961496",
     "status": "completed"
    },
    "tags": []
   },
   "outputs": [
    {
     "data": {
      "text/plain": [
       "sms_received  no_show\n",
       "0             0          35202\n",
       "              1           6702\n",
       "1             0          14903\n",
       "              1           5491\n",
       "Name: no_show, dtype: int64"
      ]
     },
     "execution_count": 37,
     "metadata": {},
     "output_type": "execute_result"
    }
   ],
   "source": [
    "df.groupby('sms_received')['no_show'].value_counts()"
   ]
  },
  {
   "cell_type": "markdown",
   "id": "98612772",
   "metadata": {
    "papermill": {
     "duration": 0.018528,
     "end_time": "2022-08-24T10:36:23.059462",
     "exception": false,
     "start_time": "2022-08-24T10:36:23.040934",
     "status": "completed"
    },
    "tags": []
   },
   "source": []
  },
  {
   "cell_type": "code",
   "execution_count": 38,
   "id": "7131c3dd",
   "metadata": {
    "execution": {
     "iopub.execute_input": "2022-08-24T10:36:23.100337Z",
     "iopub.status.busy": "2022-08-24T10:36:23.099492Z",
     "iopub.status.idle": "2022-08-24T10:36:23.250511Z",
     "shell.execute_reply": "2022-08-24T10:36:23.249084Z"
    },
    "papermill": {
     "duration": 0.175536,
     "end_time": "2022-08-24T10:36:23.253701",
     "exception": false,
     "start_time": "2022-08-24T10:36:23.078165",
     "status": "completed"
    },
    "tags": []
   },
   "outputs": [
    {
     "data": {
      "text/plain": [
       "<AxesSubplot:ylabel='sms_received,no_show'>"
      ]
     },
     "execution_count": 38,
     "metadata": {},
     "output_type": "execute_result"
    },
    {
     "data": {
      "image/png": "[encoded data removed]",
      "text/plain": [
       "<Figure size 432x288 with 1 Axes>"
      ]
     },
     "metadata": {
      "needs_background": "light"
     },
     "output_type": "display_data"
    }
   ],
   "source": [
    "df.groupby('sms_received')['no_show'].value_counts().plot(kind=\"barh\")"
   ]
  },
  {
   "cell_type": "markdown",
   "id": "0882dad4",
   "metadata": {
    "papermill": {
     "duration": 0.019454,
     "end_time": "2022-08-24T10:36:23.292511",
     "exception": false,
     "start_time": "2022-08-24T10:36:23.273057",
     "status": "completed"
    },
    "tags": []
   },
   "source": [
    "Those that received an sms did have a higher number attending appointments but those who did not receive at all had the same effect if not better."
   ]
  },
  {
   "cell_type": "markdown",
   "id": "23f71bd2",
   "metadata": {
    "papermill": {
     "duration": 0.019201,
     "end_time": "2022-08-24T10:36:23.330954",
     "exception": false,
     "start_time": "2022-08-24T10:36:23.311753",
     "status": "completed"
    },
    "tags": []
   },
   "source": [
    "CONCLUSION\n",
    "\n",
    "q1. There is no significant shift in the data to show that gender plays a basis in attendance or not.\n",
    "q2. The sms notifications did not have much in terms of visible effects in response. I think it would do better with more data"
   ]
  },
  {
   "cell_type": "markdown",
   "id": "3c7706d8",
   "metadata": {
    "execution": {
     "iopub.execute_input": "2022-08-24T10:02:08.675017Z",
     "iopub.status.busy": "2022-08-24T10:02:08.674484Z",
     "iopub.status.idle": "2022-08-24T10:02:08.768616Z",
     "shell.execute_reply": "2022-08-24T10:02:08.767021Z",
     "shell.execute_reply.started": "2022-08-24T10:02:08.674905Z"
    },
    "papermill": {
     "duration": 0.019331,
     "end_time": "2022-08-24T10:36:23.369651",
     "exception": false,
     "start_time": "2022-08-24T10:36:23.350320",
     "status": "completed"
    },
    "tags": []
   },
   "source": [
    "LIMITATIONS\n",
    "\n",
    "We had a wrong entry in the age data which should be an error. \n",
    "The handicap values where meant to be 0&1 but we had added values of 2,3 & 4.\n"
   ]
  },
  {
   "cell_type": "code",
   "execution_count": 39,
   "id": "b238bbf4",
   "metadata": {
    "execution": {
     "iopub.execute_input": "2022-08-24T10:36:23.449041Z",
     "iopub.status.busy": "2022-08-24T10:36:23.448226Z",
     "iopub.status.idle": "2022-08-24T10:36:23.452804Z",
     "shell.execute_reply": "2022-08-24T10:36:23.452048Z"
    },
    "papermill": {
     "duration": 0.027549,
     "end_time": "2022-08-24T10:36:23.455120",
     "exception": false,
     "start_time": "2022-08-24T10:36:23.427571",
     "status": "completed"
    },
    "tags": []
   },
   "outputs": [],
   "source": [
    "#from subprocess import call\n",
    "#call(['python', '-m', 'nbconvert', 'Investigate_a_Dataset.ipynb'])\n"
   ]
  }
 ],
 "metadata": {
  "kernelspec": {
   "display_name": "Python 3 (ipykernel)",
   "language": "python",
   "name": "python3"
  },
  "language_info": {
   "codemirror_mode": {
    "name": "ipython",
    "version": 3
   },
   "file_extension": ".py",
   "mimetype": "text/x-python",
   "name": "python",
   "nbconvert_exporter": "python",
   "pygments_lexer": "ipython3",
   "version": "3.9.12"
  },
  "papermill": {
   "default_parameters": {},
   "duration": 16.673734,
   "end_time": "2022-08-24T10:36:24.197414",
   "environment_variables": {},
   "exception": null,
   "input_path": "__notebook__.ipynb",
   "output_path": "__notebook__.ipynb",
   "parameters": {},
   "start_time": "2022-08-24T10:36:07.523680",
   "version": "2.3.4"
  }
 },
 "nbformat": 4,
 "nbformat_minor": 5
}
