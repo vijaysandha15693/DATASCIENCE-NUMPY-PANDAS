{
  "cells": [
    {
      "cell_type": "markdown",
      "id": "f79953d7",
      "metadata": {
        "id": "f79953d7"
      },
      "source": [
        "## Import Numpy"
      ]
    },
    {
      "cell_type": "code",
      "execution_count": null,
      "id": "be65691b",
      "metadata": {
        "id": "be65691b"
      },
      "outputs": [],
      "source": [
        "import numpy as np #Aliasing - faster than having to type 'numpy' everytime"
      ]
    },
    {
      "cell_type": "markdown",
      "id": "30486ae0",
      "metadata": {
        "id": "30486ae0"
      },
      "source": [
        "## Creating an Array"
      ]
    },
    {
      "cell_type": "code",
      "execution_count": null,
      "id": "8a43d122",
      "metadata": {
        "id": "8a43d122",
        "outputId": "b2e0427f-2cc8-4def-f75a-369337416ee8",
        "colab": {
          "base_uri": "https://localhost:8080/"
        }
      },
      "outputs": [
        {
          "output_type": "stream",
          "name": "stdout",
          "text": [
            "[1 2 3]\n",
            "[[1 2 3]\n",
            " [4 5 6]]\n",
            "[[1 3 5 7]\n",
            " [2 4 6 8]]\n"
          ]
        }
      ],
      "source": [
        "a = np.array([1,2,3])\n",
        "b = np.array([ [1,2,3], [4,5,6] ])\n",
        "c = np.array([ [1,3,5,7], [2,4,6,8] ])\n",
        "print(a)\n",
        "print(b)\n",
        "print(c)"
      ]
    },
    {
      "cell_type": "markdown",
      "id": "dc36f00a",
      "metadata": {
        "id": "dc36f00a"
      },
      "source": [
        "## Creating an Array with a specified DataType"
      ]
    },
    {
      "cell_type": "code",
      "execution_count": null,
      "id": "7cb72640",
      "metadata": {
        "id": "7cb72640",
        "outputId": "1dac235e-d3b6-433c-f304-1ce2b1f57657",
        "colab": {
          "base_uri": "https://localhost:8080/"
        }
      },
      "outputs": [
        {
          "output_type": "stream",
          "name": "stdout",
          "text": [
            "int64\n",
            "float16\n"
          ]
        }
      ],
      "source": [
        "d = np.array([2,3,5,7,9])\n",
        "print(d.dtype)\n",
        "\n",
        "#int32 => 32 bits is the size of each element i.e. 4 bytes.\n",
        "\n",
        "f_array = np.array([2,4,6,7,8], dtype = 'float16') \n",
        "print(f_array.dtype)\n",
        "\n",
        "##to change  datatype, use: f_array.astype(np.int32)"
      ]
    },
    {
      "cell_type": "markdown",
      "id": "b4af59d0",
      "metadata": {
        "id": "b4af59d0"
      },
      "source": [
        "##  (I) Basics"
      ]
    },
    {
      "cell_type": "markdown",
      "id": "21fdac8c",
      "metadata": {
        "id": "21fdac8c"
      },
      "source": [
        "#### 1. Dimensions"
      ]
    },
    {
      "cell_type": "code",
      "execution_count": null,
      "id": "2e05d784",
      "metadata": {
        "id": "2e05d784",
        "outputId": "bd71ff94-a9f0-4e4b-99d4-79032c10c6c1",
        "colab": {
          "base_uri": "https://localhost:8080/"
        }
      },
      "outputs": [
        {
          "output_type": "stream",
          "name": "stdout",
          "text": [
            "1\n",
            "2\n"
          ]
        }
      ],
      "source": [
        "dim_a = a.ndim\n",
        "dim_b = b.ndim\n",
        "print(dim_a)\n",
        "print(dim_b)"
      ]
    },
    {
      "cell_type": "markdown",
      "id": "d499ef1d",
      "metadata": {
        "id": "d499ef1d"
      },
      "source": [
        "#### Exercise 1.1"
      ]
    },
    {
      "cell_type": "code",
      "execution_count": null,
      "id": "c9365c68",
      "metadata": {
        "id": "c9365c68",
        "outputId": "589260db-a0a1-424b-9944-ca06403ebb0e",
        "colab": {
          "base_uri": "https://localhost:8080/"
        }
      },
      "outputs": [
        {
          "output_type": "stream",
          "name": "stdout",
          "text": [
            "2\n"
          ]
        }
      ],
      "source": [
        "#Get the dimensions of c:\n",
        "dim_c = c.ndim\n",
        "print(dim_c)\n"
      ]
    },
    {
      "cell_type": "markdown",
      "id": "640b11bf",
      "metadata": {
        "id": "640b11bf"
      },
      "source": [
        "#### 2. Shape"
      ]
    },
    {
      "cell_type": "code",
      "execution_count": null,
      "id": "650644d8",
      "metadata": {
        "id": "650644d8",
        "outputId": "b19ffd76-9f42-4822-ae79-8c62633b9d9b",
        "colab": {
          "base_uri": "https://localhost:8080/"
        }
      },
      "outputs": [
        {
          "output_type": "stream",
          "name": "stdout",
          "text": [
            "(3,)\n",
            "(2, 3)\n"
          ]
        }
      ],
      "source": [
        "shape_a = a.shape\n",
        "shape_b = b.shape\n",
        "print(shape_a)\n",
        "print(shape_b)\n"
      ]
    },
    {
      "cell_type": "markdown",
      "id": "61b1bf81",
      "metadata": {
        "id": "61b1bf81"
      },
      "source": [
        "#### Exercise 1.2"
      ]
    },
    {
      "cell_type": "code",
      "execution_count": null,
      "id": "4466ff4a",
      "metadata": {
        "id": "4466ff4a",
        "outputId": "47d2272b-f949-48d7-efed-b38aee57617e",
        "colab": {
          "base_uri": "https://localhost:8080/"
        }
      },
      "outputs": [
        {
          "output_type": "stream",
          "name": "stdout",
          "text": [
            "(2, 4)\n"
          ]
        }
      ],
      "source": [
        "#Get shape of C\n",
        "print(c.shape)"
      ]
    },
    {
      "cell_type": "markdown",
      "id": "5bcd4eb8",
      "metadata": {
        "id": "5bcd4eb8"
      },
      "source": [
        "#### 3. Item size"
      ]
    },
    {
      "cell_type": "code",
      "execution_count": null,
      "id": "85f5f84d",
      "metadata": {
        "id": "85f5f84d",
        "outputId": "3563d556-322c-43f3-b994-3e8dd3557681",
        "colab": {
          "base_uri": "https://localhost:8080/"
        }
      },
      "outputs": [
        {
          "output_type": "stream",
          "name": "stdout",
          "text": [
            "8\n",
            "8\n"
          ]
        }
      ],
      "source": [
        "\n",
        "#It returns the size of each element of the array in BYTES. Since we're using int32, that means \n",
        "#we have 32 bits, So to convert from bits to bytes, just divide by 8. 32/8=4.\n",
        "#Hence, we'll get 4 bytes as the answer every time.\n",
        "\n",
        "size_a = a.itemsize\n",
        "print(size_a)\n",
        "\n",
        "print(b.itemsize)"
      ]
    },
    {
      "cell_type": "markdown",
      "id": "4d46a024",
      "metadata": {
        "id": "4d46a024"
      },
      "source": [
        "#### 4. Size"
      ]
    },
    {
      "cell_type": "code",
      "execution_count": null,
      "id": "ef8f7424",
      "metadata": {
        "id": "ef8f7424",
        "outputId": "091ff581-5cb8-4c0d-c313-7b241f1abe24",
        "colab": {
          "base_uri": "https://localhost:8080/"
        }
      },
      "outputs": [
        {
          "output_type": "stream",
          "name": "stdout",
          "text": [
            "3\n",
            "6\n"
          ]
        }
      ],
      "source": [
        "#It basically counts the number of elements in all the arrays in the given array. \n",
        "\n",
        "print(a.size)\n",
        "size_b = b.size\n",
        "print(size_b)\n",
        "#print(c.size)"
      ]
    },
    {
      "cell_type": "markdown",
      "id": "1e4ae664",
      "metadata": {
        "id": "1e4ae664"
      },
      "source": [
        "#### 5. Total Size"
      ]
    },
    {
      "cell_type": "code",
      "execution_count": null,
      "id": "f660ed15",
      "metadata": {
        "id": "f660ed15"
      },
      "outputs": [],
      "source": [
        "\n",
        "#It basically gives us the size of the array, but in bytes.\n",
        "#i.e. the summation of itemsizes of all elements. \n",
        "#i.e. (a.size)*(a.itemsize)\n",
        "#Analogy: Suppose you have 4 items (length function) and each item weighs 1kg (itemsize).\n",
        "#How much is the total weight of the bag?\n",
        "#So what do you think is the total size of a and b?\n"
      ]
    },
    {
      "cell_type": "code",
      "execution_count": null,
      "id": "35d9eaa3",
      "metadata": {
        "id": "35d9eaa3",
        "outputId": "ac341aa8-5710-47e7-d463-7f3a61b50b4f",
        "colab": {
          "base_uri": "https://localhost:8080/"
        }
      },
      "outputs": [
        {
          "output_type": "stream",
          "name": "stdout",
          "text": [
            "24\n",
            "48\n",
            "64\n"
          ]
        }
      ],
      "source": [
        "tsize_a = a.nbytes\n",
        "print(tsize_a)\n",
        "\n",
        "print(b.nbytes)\n",
        "print(c.nbytes)"
      ]
    },
    {
      "cell_type": "markdown",
      "id": "1ce8d660",
      "metadata": {
        "id": "1ce8d660"
      },
      "source": [
        "## (II) Accessing elements, sequence of elements, rows and columns"
      ]
    },
    {
      "cell_type": "code",
      "execution_count": null,
      "id": "5c8cf3ff",
      "metadata": {
        "id": "5c8cf3ff",
        "outputId": "4fbf7ad4-db09-4250-dad4-3c4410271196",
        "colab": {
          "base_uri": "https://localhost:8080/"
        }
      },
      "outputs": [
        {
          "output_type": "stream",
          "name": "stdout",
          "text": [
            "[[ 1  2  3  4  5]\n",
            " [ 6  7  8  9 10]\n",
            " [11 12 13 14 15]\n",
            " [16 17 18 19 20]\n",
            " [21 22 23 24 25]]\n"
          ]
        }
      ],
      "source": [
        "a = np.array([[1,2,3,4,5],[6,7,8,9,10],[11,12,13,14,15],[16,17,18,19,20],[21,22,23,24,25]])\n",
        "print(a)"
      ]
    },
    {
      "cell_type": "markdown",
      "id": "36d0621c",
      "metadata": {
        "id": "36d0621c"
      },
      "source": [
        "#### 1. Accessing a specific element "
      ]
    },
    {
      "cell_type": "markdown",
      "id": "ae2d5948",
      "metadata": {
        "id": "ae2d5948"
      },
      "source": [
        "#### Exercise 2.1"
      ]
    },
    {
      "cell_type": "code",
      "execution_count": null,
      "id": "8b1b2f09",
      "metadata": {
        "id": "8b1b2f09",
        "outputId": "df56f6f1-63d2-44ca-a3d7-3c4238cdecd6",
        "colab": {
          "base_uri": "https://localhost:8080/"
        }
      },
      "outputs": [
        {
          "output_type": "stream",
          "name": "stdout",
          "text": [
            "8\n",
            "11\n",
            "19\n"
          ]
        }
      ],
      "source": [
        "#Access 8 in a:\n",
        "print(a[1,2])\n",
        "#Access 11 \n",
        "print(a[2,0])\n",
        "#Access 19\n",
        "print(a[-2,-2])"
      ]
    },
    {
      "cell_type": "markdown",
      "id": "5b7b214c",
      "metadata": {
        "id": "5b7b214c"
      },
      "source": [
        "#### 2. Accessing an entire row:"
      ]
    },
    {
      "cell_type": "code",
      "execution_count": null,
      "id": "7b22e7ef",
      "metadata": {
        "id": "7b22e7ef",
        "outputId": "d9f11975-93ee-45e7-e604-ec52eea83321",
        "colab": {
          "base_uri": "https://localhost:8080/"
        }
      },
      "outputs": [
        {
          "output_type": "stream",
          "name": "stdout",
          "text": [
            "[ 6  7  8  9 10]\n"
          ]
        }
      ],
      "source": [
        "#To access the second row of a, do:\n",
        "second_row = a[1,:]\n",
        "print(second_row)"
      ]
    },
    {
      "cell_type": "markdown",
      "id": "f3298ca4",
      "metadata": {
        "id": "f3298ca4"
      },
      "source": [
        "#### Exercise 2.2"
      ]
    },
    {
      "cell_type": "code",
      "execution_count": null,
      "id": "ae774c66",
      "metadata": {
        "id": "ae774c66",
        "outputId": "12034557-6bb4-4500-fe95-154a29ae6ec2",
        "colab": {
          "base_uri": "https://localhost:8080/"
        }
      },
      "outputs": [
        {
          "output_type": "stream",
          "name": "stdout",
          "text": [
            "[21 22 23 24 25]\n"
          ]
        }
      ],
      "source": [
        "#access last row:\n",
        "print(a[-1,:])"
      ]
    },
    {
      "cell_type": "markdown",
      "id": "39b16766",
      "metadata": {
        "id": "39b16766"
      },
      "source": [
        "#### 3. Accessing an entire column:"
      ]
    },
    {
      "cell_type": "code",
      "execution_count": null,
      "id": "797959c3",
      "metadata": {
        "id": "797959c3",
        "outputId": "33da2727-6219-4521-83e4-5b74889789ab",
        "colab": {
          "base_uri": "https://localhost:8080/"
        }
      },
      "outputs": [
        {
          "output_type": "stream",
          "name": "stdout",
          "text": [
            "[ 1  6 11 16 21]\n",
            "[ 5 10 15 20 25]\n"
          ]
        }
      ],
      "source": [
        "#To access the first column:\n",
        "first_column = a[:,0]\n",
        "print(first_column)\n",
        "\n",
        "last_column = a[:,-1]\n",
        "print(last_column)"
      ]
    },
    {
      "cell_type": "markdown",
      "id": "29ecee7e",
      "metadata": {
        "id": "29ecee7e"
      },
      "source": [
        "#### Exercise 2.3"
      ]
    },
    {
      "cell_type": "code",
      "execution_count": null,
      "id": "2315706f",
      "metadata": {
        "id": "2315706f",
        "outputId": "82978afb-90eb-42e4-c3a2-77a4b20b1299",
        "colab": {
          "base_uri": "https://localhost:8080/"
        }
      },
      "outputs": [
        {
          "output_type": "stream",
          "name": "stdout",
          "text": [
            "[ 4  9 14 19 24]\n",
            "[ 2  7 12 17 22]\n"
          ]
        }
      ],
      "source": [
        "#access 4th column:\n",
        "print(a[:,-2])\n",
        "#access 2nd column:\n",
        "print(a[:,1])"
      ]
    },
    {
      "cell_type": "markdown",
      "id": "09c58ac5",
      "metadata": {
        "id": "09c58ac5"
      },
      "source": [
        "#### 4. Accessing a sequence of elements and displaying them as a single array:\n",
        "#### SEQUENCE INDEXING"
      ]
    },
    {
      "cell_type": "code",
      "execution_count": null,
      "id": "c473ec7d",
      "metadata": {
        "id": "c473ec7d",
        "outputId": "fbc8ee63-cbed-4f49-d521-f964943102f1",
        "colab": {
          "base_uri": "https://localhost:8080/"
        }
      },
      "outputs": [
        {
          "output_type": "stream",
          "name": "stdout",
          "text": [
            "[12 13 14]\n"
          ]
        }
      ],
      "source": [
        "#syntax: a[start index : end index : step]\n",
        "#For example, suppose we have to access elements from 10 to 12. Then do:\n",
        "array1 = a[2,1:4:1]\n",
        "print(array1)\n",
        "\n",
        "#Second example: access elements 13 and 15"
      ]
    },
    {
      "cell_type": "markdown",
      "id": "d2dbf287",
      "metadata": {
        "id": "d2dbf287"
      },
      "source": [
        "#### Exercise 2.4"
      ]
    },
    {
      "cell_type": "code",
      "execution_count": null,
      "id": "c4e6939f",
      "metadata": {
        "id": "c4e6939f",
        "outputId": "a9c3d60b-15a2-466d-b843-37d49ab869c0",
        "colab": {
          "base_uri": "https://localhost:8080/"
        }
      },
      "outputs": [
        {
          "output_type": "stream",
          "name": "stdout",
          "text": [
            "[[11 12]\n",
            " [16 17]]\n",
            "[[ 8  9 10]\n",
            " [13 14 15]\n",
            " [18 19 20]]\n",
            "[[ 1  3  5]\n",
            " [11 13 15]\n",
            " [21 23 25]]\n",
            "[ 2  8 14 20]\n",
            "[[ 4  5]\n",
            " [14 15]\n",
            " [19 20]]\n"
          ]
        }
      ],
      "source": [
        "#Block accessing 1 - step = 1\n",
        "#Access 11,12,16,17\n",
        "print(a[2:4:1,0:2:1])\n",
        "\n",
        "#Block accessing 2 - step = 1\n",
        "#Access 8,9,10,13,14,15,18,19,20\n",
        "print(a[1:4:1,2:5:1])\n",
        "\n",
        "#Block accessing 3 - step = 2\n",
        "#Access 1,3,5,11,13,15,21,23,25\n",
        "print(a[0:5:2,0:5:2])\n",
        "\n",
        "#Diagonal accessing\n",
        "#Access 2,8,14,20\n",
        "print(a[[0,1,2,3],[1,2,3,4]])\n",
        "\n",
        "#Random Accessing\n",
        "#Access 4,5,14,15,19,20\n",
        "print(a[[0,2,3],3:5:1])"
      ]
    },
    {
      "cell_type": "code",
      "execution_count": null,
      "id": "fc29660a",
      "metadata": {
        "id": "fc29660a",
        "outputId": "9bbbd746-73f1-4849-a9f7-e4198ac6f54f",
        "colab": {
          "base_uri": "https://localhost:8080/"
        }
      },
      "outputs": [
        {
          "output_type": "stream",
          "name": "stdout",
          "text": [
            "[[ 1  2  3]\n",
            " [ 6  7  8]\n",
            " [16 17 18]\n",
            " [21 22 23]]\n"
          ]
        }
      ],
      "source": [
        "x = a[[4,3,2,1,0],[0,1,2,3,4]]\n",
        "y = a[0:5:1,0:3:1]\n",
        "z = a[[0,1,3,4],0:2:1]\n",
        "w = a[0:4:1,0:2:1]\n",
        "print(a[[0,1,3,4],0:3:1])"
      ]
    },
    {
      "cell_type": "markdown",
      "id": "f814bc97",
      "metadata": {
        "id": "f814bc97"
      },
      "source": [
        "## (III) Changing Elements "
      ]
    },
    {
      "cell_type": "markdown",
      "id": "98575c5c",
      "metadata": {
        "id": "98575c5c"
      },
      "source": [
        "#### 1. Changing elements:"
      ]
    },
    {
      "cell_type": "code",
      "execution_count": null,
      "id": "8c0d7e6d",
      "metadata": {
        "id": "8c0d7e6d",
        "outputId": "7e3f0c7f-1bc3-4e34-cda5-c2c4084a520f",
        "colab": {
          "base_uri": "https://localhost:8080/"
        }
      },
      "outputs": [
        {
          "output_type": "stream",
          "name": "stdout",
          "text": [
            "[[  1   2   3   4   5]\n",
            " [  6   7   8   9 100]\n",
            " [ 11  12  13  14  15]\n",
            " [ 16  17  18  19  20]\n",
            " [ 21  22  23  24  25]]\n"
          ]
        }
      ],
      "source": [
        "#Now that we've learnt how to access a particular element, it's quite simple to change \n",
        "#that accessed element(s).\n",
        "#For example, if we want to change 10 to 100, we access 10 and change it to 100 by :\n",
        "a[1,4] = 100\n",
        "print(a)\n"
      ]
    },
    {
      "cell_type": "markdown",
      "id": "1f9596e3",
      "metadata": {
        "id": "1f9596e3"
      },
      "source": [
        "#### Exercise 3.1"
      ]
    },
    {
      "cell_type": "code",
      "execution_count": null,
      "id": "44039e38",
      "metadata": {
        "id": "44039e38",
        "outputId": "6111d2df-8f1c-4f5f-a909-9ef35cf10e00",
        "colab": {
          "base_uri": "https://localhost:8080/"
        }
      },
      "outputs": [
        {
          "output_type": "stream",
          "name": "stdout",
          "text": [
            "[[  1   2   3   4   5]\n",
            " [  6   7   8   9 100]\n",
            " [ 11  12  13  14  15]\n",
            " [ 16  17  18  19 200]\n",
            " [ 21  22  23  24  25]]\n"
          ]
        }
      ],
      "source": [
        "#Change 20 to 200\n",
        "a[3,4]=200\n",
        "print(a)"
      ]
    },
    {
      "cell_type": "markdown",
      "id": "bf714079",
      "metadata": {
        "id": "bf714079"
      },
      "source": [
        "#### 2. Changing an entire row"
      ]
    },
    {
      "cell_type": "code",
      "execution_count": null,
      "id": "6baf8cca",
      "metadata": {
        "id": "6baf8cca",
        "outputId": "527e58a8-d977-48d5-c8e3-2dc0b6198cfd",
        "colab": {
          "base_uri": "https://localhost:8080/"
        }
      },
      "outputs": [
        {
          "output_type": "stream",
          "name": "stdout",
          "text": [
            "[[  1   2   3   4   5]\n",
            " [  6   7   8   9 100]\n",
            " [ 11  12  13  14  15]\n",
            " [ 16  17  18  19 200]\n",
            " [ 50  50  50  50  50]]\n"
          ]
        }
      ],
      "source": [
        "#make it so that all the elements in the last row are 50\n",
        "a[4,:]=50\n",
        "print(a)"
      ]
    },
    {
      "cell_type": "markdown",
      "id": "6c066425",
      "metadata": {
        "id": "6c066425"
      },
      "source": [
        "#### Exercise 3.2 "
      ]
    },
    {
      "cell_type": "code",
      "execution_count": null,
      "id": "adcc76c0",
      "metadata": {
        "id": "adcc76c0",
        "outputId": "7ff6e394-713d-4f86-e19f-473eea8c4801",
        "colab": {
          "base_uri": "https://localhost:8080/"
        }
      },
      "outputs": [
        {
          "output_type": "stream",
          "name": "stdout",
          "text": [
            "[[  1   2   3   4   5]\n",
            " [  6   7   8   9 100]\n",
            " [ 72  72  72  72  72]\n",
            " [ 16  17  18  19 200]\n",
            " [ 50  50  50  50  50]]\n"
          ]
        }
      ],
      "source": [
        "#Change all the elements of the third row to 72\n",
        "a[2,:]=72\n",
        "print(a)"
      ]
    },
    {
      "cell_type": "markdown",
      "id": "b150669c",
      "metadata": {
        "id": "b150669c"
      },
      "source": [
        "#### 3. Changing an entire column"
      ]
    },
    {
      "cell_type": "code",
      "execution_count": null,
      "id": "60376b2f",
      "metadata": {
        "id": "60376b2f",
        "outputId": "fa0fa18a-53e7-47bf-9085-0d1d689daeac",
        "colab": {
          "base_uri": "https://localhost:8080/"
        }
      },
      "outputs": [
        {
          "output_type": "stream",
          "name": "stdout",
          "text": [
            "[[ 1  2  3  4 80]\n",
            " [ 6  7  8  9 80]\n",
            " [72 72 72 72 80]\n",
            " [16 17 18 19 80]\n",
            " [50 50 50 50 80]]\n"
          ]
        }
      ],
      "source": [
        "#make it so that all the elements of the last column are 80 \n",
        "a[:,4]=80\n",
        "print(a)"
      ]
    },
    {
      "cell_type": "markdown",
      "id": "dc8ce28f",
      "metadata": {
        "id": "dc8ce28f"
      },
      "source": [
        "#### Exercise 3.3"
      ]
    },
    {
      "cell_type": "code",
      "execution_count": null,
      "id": "54ee42e8",
      "metadata": {
        "id": "54ee42e8",
        "outputId": "55b9d3a2-49fe-4c52-b942-c6a42d2dd6b3",
        "colab": {
          "base_uri": "https://localhost:8080/"
        }
      },
      "outputs": [
        {
          "output_type": "stream",
          "name": "stdout",
          "text": [
            "[[ 1 77  3  4 80]\n",
            " [ 6 77  8  9 80]\n",
            " [72 77 72 72 80]\n",
            " [16 77 18 19 80]\n",
            " [50 77 50 50 80]]\n"
          ]
        }
      ],
      "source": [
        "#Make it so that all the elements in the second column are 77\n",
        "a[:,1]=77\n",
        "print(a)"
      ]
    },
    {
      "cell_type": "markdown",
      "id": "6533a4ab",
      "metadata": {
        "id": "6533a4ab"
      },
      "source": [
        "#### 4. Changing a row/column to specified elements"
      ]
    },
    {
      "cell_type": "code",
      "execution_count": null,
      "id": "08bc3543",
      "metadata": {
        "id": "08bc3543",
        "outputId": "51faf2ef-6d2d-4f2b-eae2-c70f3ab3dd74",
        "colab": {
          "base_uri": "https://localhost:8080/"
        }
      },
      "outputs": [
        {
          "output_type": "stream",
          "name": "stdout",
          "text": [
            "[[10 20 30 40 50]\n",
            " [ 6 77  8  9 80]\n",
            " [72 77 72 72 80]\n",
            " [16 77 18 19 80]\n",
            " [50 77 50 50 80]]\n"
          ]
        }
      ],
      "source": [
        "a[0,:]=10,20,30,40,50\n",
        "print(a)"
      ]
    },
    {
      "cell_type": "markdown",
      "id": "ba4c3b56",
      "metadata": {
        "id": "ba4c3b56"
      },
      "source": [
        "#### Exercise 3.4"
      ]
    },
    {
      "cell_type": "code",
      "execution_count": null,
      "id": "250c87fb",
      "metadata": {
        "id": "250c87fb",
        "outputId": "b4c2fcc5-5456-45f0-d4f1-33c35e5ee543",
        "colab": {
          "base_uri": "https://localhost:8080/"
        }
      },
      "outputs": [
        {
          "output_type": "stream",
          "name": "stdout",
          "text": [
            "[[ 10  20  30  40 100]\n",
            " [  6  77   8   9 200]\n",
            " [ 72  77  72  72 300]\n",
            " [ 16  77  18  19 400]\n",
            " [ 50  77  50  50 500]]\n"
          ]
        }
      ],
      "source": [
        "#Using column replacements, change the last column to elements 100,200,300,400,500\n",
        "a[:,4] = [100,200,300,400,500]\n",
        "print(a)"
      ]
    },
    {
      "cell_type": "markdown",
      "id": "fccb0d51",
      "metadata": {
        "id": "fccb0d51"
      },
      "source": [
        "## (IV) Intitializing (creating) different types of arrays"
      ]
    },
    {
      "cell_type": "markdown",
      "id": "c556fb6b",
      "metadata": {
        "id": "c556fb6b"
      },
      "source": [
        "#### 1. All 0s and all 1s matrix"
      ]
    },
    {
      "cell_type": "code",
      "execution_count": null,
      "id": "6ac91d6a",
      "metadata": {
        "id": "6ac91d6a",
        "outputId": "864dd803-da66-4d91-9198-f516f3daf716",
        "colab": {
          "base_uri": "https://localhost:8080/"
        }
      },
      "outputs": [
        {
          "output_type": "stream",
          "name": "stdout",
          "text": [
            "[[0. 0. 0. 0.]\n",
            " [0. 0. 0. 0.]\n",
            " [0. 0. 0. 0.]]\n",
            "[[1. 1. 1.]\n",
            " [1. 1. 1.]\n",
            " [1. 1. 1.]\n",
            " [1. 1. 1.]]\n"
          ]
        }
      ],
      "source": [
        "#This will create a matrix of given shape such that all elements in it are zeroes\n",
        "matrix1 = np.zeros((3,4))\n",
        "print(matrix1)\n",
        "\n",
        "matrix2 = np.ones((4,3))\n",
        "print(matrix2)\n"
      ]
    },
    {
      "cell_type": "markdown",
      "id": "5c74a76d",
      "metadata": {
        "id": "5c74a76d"
      },
      "source": [
        "#### Exercise 4.1 "
      ]
    },
    {
      "cell_type": "code",
      "execution_count": null,
      "id": "b00d9694",
      "metadata": {
        "id": "b00d9694",
        "outputId": "867ddadd-ab2f-454b-f9f9-1df93bb539e5",
        "colab": {
          "base_uri": "https://localhost:8080/"
        }
      },
      "outputs": [
        {
          "output_type": "stream",
          "name": "stdout",
          "text": [
            "[[0. 0. 0. 0. 0. 0. 0. 0. 0.]\n",
            " [0. 0. 0. 0. 0. 0. 0. 0. 0.]\n",
            " [0. 0. 0. 0. 0. 0. 0. 0. 0.]]\n"
          ]
        }
      ],
      "source": [
        "#Create an all zeroes matrix with 9 columns and 3 rows\n",
        "print(np.zeros((3,9)))"
      ]
    },
    {
      "cell_type": "markdown",
      "id": "27c8e979",
      "metadata": {
        "id": "27c8e979"
      },
      "source": [
        "#### 2. All Ns matrix"
      ]
    },
    {
      "cell_type": "code",
      "execution_count": null,
      "id": "2bd5cdc7",
      "metadata": {
        "id": "2bd5cdc7",
        "outputId": "b60bd1d7-1bd9-401d-9a13-b48475e54536",
        "colab": {
          "base_uri": "https://localhost:8080/"
        }
      },
      "outputs": [
        {
          "output_type": "stream",
          "name": "stdout",
          "text": [
            "[[96 96 96 96]\n",
            " [96 96 96 96]\n",
            " [96 96 96 96]]\n"
          ]
        }
      ],
      "source": [
        "#create a matrix with a given number N of shape mxn\n",
        "matrix3 = np.full((3,4),96)\n",
        "print(matrix3)"
      ]
    },
    {
      "cell_type": "markdown",
      "id": "9fabcde3",
      "metadata": {
        "id": "9fabcde3"
      },
      "source": [
        "#### 3. Full Like Matrices"
      ]
    },
    {
      "cell_type": "code",
      "execution_count": null,
      "id": "7e6bb722",
      "metadata": {
        "id": "7e6bb722",
        "outputId": "8da19ccd-fc8a-4933-d38b-2a5544e65ace",
        "colab": {
          "base_uri": "https://localhost:8080/"
        }
      },
      "outputs": [
        {
          "output_type": "stream",
          "name": "stdout",
          "text": [
            "[[7 7 7 7 7]\n",
            " [7 7 7 7 7]\n",
            " [7 7 7 7 7]\n",
            " [7 7 7 7 7]\n",
            " [7 7 7 7 7]]\n"
          ]
        }
      ],
      "source": [
        "matrix3 = np.full_like(a,7)\n",
        "print(matrix3)\n"
      ]
    },
    {
      "cell_type": "markdown",
      "id": "ea2f3360",
      "metadata": {
        "id": "ea2f3360"
      },
      "source": [
        "#### 4. Random integer matrices "
      ]
    },
    {
      "cell_type": "code",
      "execution_count": null,
      "id": "587e9f4a",
      "metadata": {
        "id": "587e9f4a",
        "outputId": "8ca1808e-256a-4839-df5e-7c5ca88d3a7d",
        "colab": {
          "base_uri": "https://localhost:8080/"
        }
      },
      "outputs": [
        {
          "output_type": "stream",
          "name": "stdout",
          "text": [
            "[[8 4 6 2]\n",
            " [6 0 3 3]\n",
            " [0 5 8 2]\n",
            " [4 7 8 0]]\n",
            "[[18 12 13]\n",
            " [17 11 15]\n",
            " [20 16 20]]\n"
          ]
        }
      ],
      "source": [
        "matrix4 = np.random.randint(10,size=(4,4))\n",
        "print(matrix4)\n",
        "#note that 10 is excluded\n",
        "\n",
        "#creating a matrix with random integers from 11 to 20\n",
        "matrix5 = np.random.randint(11,21, size =(3,3))\n",
        "print(matrix5)\n",
        "#note that 11 is included, 21 is excluded"
      ]
    },
    {
      "cell_type": "markdown",
      "id": "21b13fe6",
      "metadata": {
        "id": "21b13fe6"
      },
      "source": [
        "#### 5. Random floating point value matrices"
      ]
    },
    {
      "cell_type": "code",
      "execution_count": null,
      "id": "4f79065e",
      "metadata": {
        "id": "4f79065e",
        "outputId": "5a5d9e66-4423-454d-e506-6b5b52c07215",
        "colab": {
          "base_uri": "https://localhost:8080/"
        }
      },
      "outputs": [
        {
          "output_type": "stream",
          "name": "stdout",
          "text": [
            "[[0.39610428 0.11582602]\n",
            " [0.2163865  0.04140409]]\n"
          ]
        }
      ],
      "source": [
        "matrix6 = np.random.rand(2,2)\n",
        "print(matrix6)"
      ]
    },
    {
      "cell_type": "markdown",
      "id": "00b3478a",
      "metadata": {
        "id": "00b3478a"
      },
      "source": [
        "#### 6. Identity Matrices\n"
      ]
    },
    {
      "cell_type": "code",
      "execution_count": null,
      "id": "2bfe5405",
      "metadata": {
        "id": "2bfe5405",
        "outputId": "0442d70d-9f3e-4c7c-a53e-6cf57ecce080",
        "colab": {
          "base_uri": "https://localhost:8080/"
        }
      },
      "outputs": [
        {
          "output_type": "stream",
          "name": "stdout",
          "text": [
            "[[1. 0. 0.]\n",
            " [0. 1. 0.]\n",
            " [0. 0. 1.]]\n"
          ]
        }
      ],
      "source": [
        "matrix7 = np.identity(3)\n",
        "print(matrix7)"
      ]
    },
    {
      "cell_type": "markdown",
      "id": "a941d666",
      "metadata": {
        "id": "a941d666"
      },
      "source": [
        "## (V) Mathematical Operations on Matrices"
      ]
    },
    {
      "cell_type": "markdown",
      "id": "92baaa23",
      "metadata": {
        "id": "92baaa23"
      },
      "source": [
        "#### 1. Addition, Subtraction"
      ]
    },
    {
      "cell_type": "code",
      "execution_count": null,
      "id": "15321f36",
      "metadata": {
        "id": "15321f36",
        "outputId": "76ee46ff-cdef-4b7b-c83c-2a072b511516",
        "colab": {
          "base_uri": "https://localhost:8080/"
        }
      },
      "outputs": [
        {
          "output_type": "stream",
          "name": "stdout",
          "text": [
            "[[2 3 4]\n",
            " [5 6 7]]\n"
          ]
        }
      ],
      "source": [
        "#One of the advantages of using numpy is that we can straightaway add numbers to an entire array\n",
        "#for example:\n",
        "matrix8 = np.array([[1,2,3],[4,5,6]])\n",
        "matrix9 = matrix8 + 1\n",
        "print(matrix9)"
      ]
    },
    {
      "cell_type": "markdown",
      "id": "e1251e8d",
      "metadata": {
        "id": "e1251e8d"
      },
      "source": [
        "#### 2. Multiplication, Division"
      ]
    },
    {
      "cell_type": "code",
      "execution_count": null,
      "id": "bcbc5c10",
      "metadata": {
        "id": "bcbc5c10",
        "outputId": "c6d08a36-0795-4076-facd-538693654cb3",
        "colab": {
          "base_uri": "https://localhost:8080/"
        }
      },
      "outputs": [
        {
          "output_type": "stream",
          "name": "stdout",
          "text": [
            "[ 1.  2.  3.  4.  5.  6.  7.  8.  9. 10.]\n"
          ]
        }
      ],
      "source": [
        "matrix10 = np.array([10,20,30,40,50,60,70,80,90,100])\n",
        "matrix11 = matrix10/10\n",
        "print(matrix11)"
      ]
    },
    {
      "cell_type": "code",
      "execution_count": null,
      "id": "7b18b26a",
      "metadata": {
        "id": "7b18b26a",
        "outputId": "6e2c4714-fe52-4014-c484-5077b7022f42",
        "colab": {
          "base_uri": "https://localhost:8080/"
        }
      },
      "outputs": [
        {
          "output_type": "stream",
          "name": "stdout",
          "text": [
            "[ 10.  20.  30.  40.  50.  60.  70.  80.  90. 100.]\n"
          ]
        }
      ],
      "source": [
        "matrix12 = matrix11 * 10\n",
        "print(matrix12)"
      ]
    },
    {
      "cell_type": "code",
      "execution_count": null,
      "id": "df7a11dd",
      "metadata": {
        "id": "df7a11dd",
        "outputId": "a2996bb8-5432-4edf-dbaa-3a20350e49b9",
        "colab": {
          "base_uri": "https://localhost:8080/"
        }
      },
      "outputs": [
        {
          "output_type": "stream",
          "name": "stdout",
          "text": [
            "[ 10  20  30  40  50  60  70  80  90 100]\n"
          ]
        }
      ],
      "source": [
        "matrix12 = matrix12.astype(np.int32)\n",
        "print(matrix12)"
      ]
    },
    {
      "cell_type": "markdown",
      "id": "68cfa585",
      "metadata": {
        "id": "68cfa585"
      },
      "source": [
        "#### 3. Linear Algebra "
      ]
    },
    {
      "cell_type": "markdown",
      "id": "190d626c",
      "metadata": {
        "id": "190d626c"
      },
      "source": [
        "##### 3.1 Addition "
      ]
    },
    {
      "cell_type": "code",
      "execution_count": null,
      "id": "32f3ad71",
      "metadata": {
        "id": "32f3ad71",
        "outputId": "3f23c768-5002-4e51-9960-5fdc85f6c2e9",
        "colab": {
          "base_uri": "https://localhost:8080/"
        }
      },
      "outputs": [
        {
          "output_type": "stream",
          "name": "stdout",
          "text": [
            "[1, 2, 3, 4, 5, 5, 4, 3, 2, 1]\n",
            "[6 6 6 6 6]\n"
          ]
        }
      ],
      "source": [
        "#intuitively:\n",
        "a = ([1,2,3,4,5])\n",
        "b = ([5,4,3,2,1])\n",
        "c = a+b\n",
        "print(c)\n",
        "\n",
        "#you'll have to use the numpy function to add two arrays.\n",
        "\n",
        "d=np.add(a,b)\n",
        "print(d)\n"
      ]
    },
    {
      "cell_type": "markdown",
      "id": "ca308c51",
      "metadata": {
        "id": "ca308c51"
      },
      "source": [
        "##### 3.2 Subtraction"
      ]
    },
    {
      "cell_type": "code",
      "execution_count": null,
      "id": "c8f68b7d",
      "metadata": {
        "id": "c8f68b7d",
        "outputId": "145f55aa-8f1a-46bf-f8e3-fa00ad2c0a1b",
        "colab": {
          "base_uri": "https://localhost:8080/"
        }
      },
      "outputs": [
        {
          "output_type": "stream",
          "name": "stdout",
          "text": [
            "[-4 -2  0  2  4]\n"
          ]
        }
      ],
      "source": [
        "#Now that you must have got an idea of how things work, I want you guys to try out subtraction \n",
        "#on your own. Subtract the above matrices a and b\n",
        "\n",
        "e = np.subtract(a,b)\n",
        "print(e)"
      ]
    },
    {
      "cell_type": "markdown",
      "id": "109caac9",
      "metadata": {
        "id": "109caac9"
      },
      "source": [
        "##### 3.3 Multiplication"
      ]
    },
    {
      "cell_type": "code",
      "execution_count": null,
      "id": "2207178b",
      "metadata": {
        "id": "2207178b",
        "outputId": "1f9a7389-3b17-4005-8c4c-21a8caa5ee9b",
        "colab": {
          "base_uri": "https://localhost:8080/"
        }
      },
      "outputs": [
        {
          "output_type": "stream",
          "name": "stdout",
          "text": [
            "[[1. 0. 0.]\n",
            " [0. 5. 0.]\n",
            " [0. 0. 9.]]\n",
            "[[1. 2. 3.]\n",
            " [4. 5. 6.]\n",
            " [7. 8. 9.]]\n"
          ]
        }
      ],
      "source": [
        "#MULTIPLICATION\n",
        "\n",
        "a = np.array([[1,2,3],[4,5,6],[7,8,9]])\n",
        "b = np.identity(3)\n",
        "\n",
        "#Do it the conventional way and you'll realise this is not matrix multiplication. \n",
        "#It's just multiplying the arrays.\n",
        "\n",
        "c = a*b\n",
        "print(c)\n",
        "\n",
        "#For this, we have to use a numpy function like this:\n",
        "d = np.matmul(a,b)\n",
        "print(d)"
      ]
    },
    {
      "cell_type": "markdown",
      "id": "d370a15b",
      "metadata": {
        "id": "d370a15b"
      },
      "source": [
        "##### 3.4 Division \n"
      ]
    },
    {
      "cell_type": "code",
      "execution_count": null,
      "id": "13d229fd",
      "metadata": {
        "id": "13d229fd",
        "outputId": "c2ed0f46-b39d-4b92-8dc7-4fe9b30ed377",
        "colab": {
          "base_uri": "https://localhost:8080/"
        }
      },
      "outputs": [
        {
          "output_type": "stream",
          "name": "stdout",
          "text": [
            "[1. 2. 3. 4. 5.]\n",
            "[1 2 3 4 5]\n"
          ]
        }
      ],
      "source": [
        "a = np.array([2,4,6,8,10])\n",
        "b = np.array([2,2,2,2,2])\n",
        "c = np.divide(a,b)\n",
        "print(c)\n",
        "\n",
        "#I want the answer to be in int32\n",
        "print(c.astype(np.int32))"
      ]
    },
    {
      "cell_type": "markdown",
      "id": "80b28fe1",
      "metadata": {
        "id": "80b28fe1"
      },
      "source": [
        "##### 3.5 Determinant"
      ]
    },
    {
      "cell_type": "code",
      "execution_count": null,
      "id": "95802131",
      "metadata": {
        "id": "95802131",
        "outputId": "1a860073-6253-4a5d-fe44-8deb4b2091d8",
        "colab": {
          "base_uri": "https://localhost:8080/"
        }
      },
      "outputs": [
        {
          "output_type": "stream",
          "name": "stdout",
          "text": [
            "1.0\n"
          ]
        }
      ],
      "source": [
        "#I'm going to ask you guys a very simple question: What is the most fundamental difference between a \n",
        "#Matrix and a Determinant?\n",
        "#Ans: Matrix is an arrangement of data, A Determinant is a single value \n",
        "\n",
        "#To calculate the determinant of a matrix, \n",
        "#first and foremost, obviously, the matrix needs to be a square matrix.\n",
        "#this is the function we are going to use in order to find the determinant:\n",
        "a = np.identity(3)\n",
        "b = np.linalg.det(a)\n",
        "print(b)\n",
        "\n",
        "#since the determinant of an identity matrix is always 1, we have verified the working of this function."
      ]
    },
    {
      "cell_type": "markdown",
      "id": "d10b2806",
      "metadata": {
        "id": "d10b2806"
      },
      "source": [
        "##### 3.6 Trigonomety"
      ]
    },
    {
      "cell_type": "code",
      "execution_count": null,
      "id": "506f8cee",
      "metadata": {
        "id": "506f8cee",
        "outputId": "f49a4f70-c0b8-4bb4-b799-7c7fc481ea18",
        "colab": {
          "base_uri": "https://localhost:8080/"
        }
      },
      "outputs": [
        {
          "output_type": "stream",
          "name": "stdout",
          "text": [
            "[1.5707963267948966, 0.5235987755982988]\n",
            "[1.  0.5]\n"
          ]
        }
      ],
      "source": [
        "a = ([np.pi/2,np.pi/6])\n",
        "print(a)\n",
        "\n",
        "c = np.sin(a)\n",
        "print(c)\n",
        "\n",
        "#So we learnt two things in this:\n",
        "#First, of course the fact that we can use trignonometric functions in this\n",
        "#Second, how to use pi from the numpy library"
      ]
    },
    {
      "cell_type": "markdown",
      "id": "b8d5fa6f",
      "metadata": {
        "id": "b8d5fa6f"
      },
      "source": [
        "#### 4. Statistics"
      ]
    },
    {
      "cell_type": "code",
      "execution_count": null,
      "id": "0944c37b",
      "metadata": {
        "id": "0944c37b",
        "outputId": "836d07b8-4a96-4d2b-a394-682c82be3a1f",
        "colab": {
          "base_uri": "https://localhost:8080/"
        }
      },
      "outputs": [
        {
          "output_type": "stream",
          "name": "stdout",
          "text": [
            "1\n",
            "9\n"
          ]
        }
      ],
      "source": [
        "#In statistics, considering the scope of our lecture, we'll look at two functions:\n",
        "#minimum and maximum\n",
        "\n",
        "a = ([1,2,3,4,5,6,7,8,9])\n",
        "#in the above array or a  matrix, it is easy to tell exactly which is the largest number in it\n",
        "#however, in practical scnarios, we'll be dealing with arrays that are even 100x100\n",
        "#regardless, we're going to find out which is the largest number among these\n",
        "min_a = np.min(a)\n",
        "print(min_a)\n",
        "#similarly for max\n",
        "max_a = np.max(a)\n",
        "print(max_a)"
      ]
    },
    {
      "cell_type": "markdown",
      "id": "3e15210a",
      "metadata": {
        "id": "3e15210a"
      },
      "source": [
        "## (VI) Matrix manipulation"
      ]
    },
    {
      "cell_type": "markdown",
      "id": "8271c741",
      "metadata": {
        "id": "8271c741"
      },
      "source": [
        "#### 1. Reshaping "
      ]
    },
    {
      "cell_type": "code",
      "execution_count": null,
      "id": "9b255aa0",
      "metadata": {
        "id": "9b255aa0",
        "outputId": "8645bf46-9fff-4e3e-bb3e-1188a160339b",
        "colab": {
          "base_uri": "https://localhost:8080/"
        }
      },
      "outputs": [
        {
          "output_type": "stream",
          "name": "stdout",
          "text": [
            "[[1]\n",
            " [2]\n",
            " [3]\n",
            " [4]\n",
            " [5]\n",
            " [6]\n",
            " [7]\n",
            " [8]]\n"
          ]
        }
      ],
      "source": [
        "a= np.array([[1,2,3,4],[5,6,7,8]])\n",
        "b= a.reshape((8,1)) #8rows and 1 column\n",
        "print(b)\n",
        "\n",
        "#From this, we come to know this function is goin to work as long as the total number of \n",
        "#elements in it remains the same.\n",
        "\n"
      ]
    },
    {
      "cell_type": "markdown",
      "id": "0994769e",
      "metadata": {
        "id": "0994769e"
      },
      "source": [
        "#### Exercise 6.1"
      ]
    },
    {
      "cell_type": "code",
      "execution_count": null,
      "id": "1affd14e",
      "metadata": {
        "id": "1affd14e",
        "outputId": "4dc9c23f-78bd-4de8-c3fb-799a5007dcb6",
        "colab": {
          "base_uri": "https://localhost:8080/"
        }
      },
      "outputs": [
        {
          "output_type": "stream",
          "name": "stdout",
          "text": [
            "[[1 2]\n",
            " [3 4]\n",
            " [5 6]\n",
            " [7 8]]\n",
            "--------\n",
            "[[[1 2]\n",
            "  [3 4]]\n",
            "\n",
            " [[5 6]\n",
            "  [7 8]]]\n"
          ]
        }
      ],
      "source": [
        "#Modify array a such that it becomes a 4x2, 2x2x2 array\n",
        "c = a.reshape((4,2))\n",
        "d = a.reshape((2,2,2))\n",
        "print(c)\n",
        "print(\"--------\")\n",
        "print(d)"
      ]
    },
    {
      "cell_type": "markdown",
      "id": "622efbf3",
      "metadata": {
        "id": "622efbf3"
      },
      "source": [
        "#### 2. Stacking "
      ]
    },
    {
      "cell_type": "code",
      "execution_count": null,
      "id": "7019e1f6",
      "metadata": {
        "id": "7019e1f6",
        "outputId": "ca9694a7-5178-4bb4-ed6d-0e5677753d92",
        "colab": {
          "base_uri": "https://localhost:8080/"
        }
      },
      "outputs": [
        {
          "output_type": "execute_result",
          "data": {
            "text/plain": [
              "array([[ 10,  20,  30,  40,  50],\n",
              "       [ 60,  70,  80,  90, 100]])"
            ]
          },
          "metadata": {},
          "execution_count": 51
        }
      ],
      "source": [
        "#Horizontal Stacking:\n",
        "a = np.array([10,20,30,40,50])\n",
        "b = np.array([60,70,80,90,100])\n",
        "c = np.vstack([a,b]) #stack and vstack both will do\n",
        "c\n",
        "\n",
        "#you may even stack them multiple times, according to the sequence you put in those brackets"
      ]
    },
    {
      "cell_type": "code",
      "execution_count": null,
      "id": "8eaa8158",
      "metadata": {
        "id": "8eaa8158",
        "outputId": "d9a45e95-9335-408c-bee0-a1bdaf273f3f",
        "colab": {
          "base_uri": "https://localhost:8080/"
        }
      },
      "outputs": [
        {
          "output_type": "execute_result",
          "data": {
            "text/plain": [
              "array([[1, 2, 2, 2],\n",
              "       [3, 4, 2, 2]])"
            ]
          },
          "metadata": {},
          "execution_count": 52
        }
      ],
      "source": [
        "#Vertical Stacking:\n",
        "a = np.array([[1,2],[3,4]])\n",
        "b = np.full_like(a,2) #remember the full_like function from previous sections?\n",
        "c = np.hstack([a,b])\n",
        "c\n"
      ]
    },
    {
      "cell_type": "markdown",
      "id": "c79d657e",
      "metadata": {
        "id": "c79d657e"
      },
      "source": [
        "## (VII) Miscellaneous"
      ]
    },
    {
      "cell_type": "code",
      "execution_count": null,
      "id": "d38f3eec",
      "metadata": {
        "id": "d38f3eec",
        "outputId": "a5aa2da0-a596-4235-c1a9-b56f639eaa2b",
        "colab": {
          "base_uri": "https://localhost:8080/"
        }
      },
      "outputs": [
        {
          "output_type": "stream",
          "name": "stdout",
          "text": [
            "[[ 1  2]\n",
            " [ 3 99]]\n",
            "[[ 1  2]\n",
            " [ 3 99]]\n"
          ]
        }
      ],
      "source": [
        "#careful while copying arrays\n",
        "#it works on pointers. \n",
        "#for example, you'd expect in this case that the changes made to b will not affect a \n",
        "a = np.array([[1,2],[3,4]])\n",
        "b = a\n",
        "a[1,1] = 99\n",
        "print(b)\n",
        "#However, they're actually both operating on the same array, beacuse a nad b are both \n",
        "#pointing to the same array.\n",
        "\n",
        "#To avoid this, use:\n",
        "c=a.copy()\n",
        "print(c)"
      ]
    },
    {
      "cell_type": "code",
      "source": [
        "cars = [\"Aston\", \"Audi\", \"McLaren \"]\n",
        "for i, x in enumerate(cars):\n",
        "    print(x)"
      ],
      "metadata": {
        "colab": {
          "base_uri": "https://localhost:8080/"
        },
        "id": "jQ3kLQbgRDBe",
        "outputId": "01150fd2-01c8-41d3-efa2-0f52eabe1867"
      },
      "id": "jQ3kLQbgRDBe",
      "execution_count": 1,
      "outputs": [
        {
          "output_type": "stream",
          "name": "stdout",
          "text": [
            "Aston\n",
            "Audi\n",
            "McLaren \n"
          ]
        }
      ]
    }
  ],
  "metadata": {
    "kernelspec": {
      "display_name": "Python 3",
      "language": "python",
      "name": "python3"
    },
    "language_info": {
      "codemirror_mode": {
        "name": "ipython",
        "version": 3
      },
      "file_extension": ".py",
      "mimetype": "text/x-python",
      "name": "python",
      "nbconvert_exporter": "python",
      "pygments_lexer": "ipython3",
      "version": "3.8.8"
    },
    "colab": {
      "provenance": []
    }
  },
  "nbformat": 4,
  "nbformat_minor": 5
}